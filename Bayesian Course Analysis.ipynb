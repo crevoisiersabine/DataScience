{
 "metadata": {
  "name": "",
  "signature": "sha256:8b50942ee71ba1909272f48f8007adfca3fd542205b855478b57efb7832fd8e2"
 },
 "nbformat": 3,
 "nbformat_minor": 0,
 "worksheets": [
  {
   "cells": [
    {
     "cell_type": "heading",
     "level": 1,
     "metadata": {},
     "source": [
      "Inferring behaviour from daily hours worked data"
     ]
    },
    {
     "cell_type": "markdown",
     "metadata": {},
     "source": [
      "Example inspired by \"Did the user's texting change over time?\" found in the Probabilistic-Programming-and-Bayesian-Methods-for-Hackers, Introductory Chapter. (http://nbviewer.ipython.org/github/CamDavidsonPilon/Probabilistic-Programming-and-Bayesian-Methods-for-Hackers/blob/master/Chapter1_Introduction/Chapter1_Introduction.ipynb)\n",
      "\n",
      "Applied to studying hours from our online open source Data Science Masters (http://crevoisiersabine.github.io/DataScience/)"
     ]
    },
    {
     "cell_type": "heading",
     "level": 3,
     "metadata": {},
     "source": [
      "We start by loading the typical libraries required to do statistical analysis in python."
     ]
    },
    {
     "cell_type": "code",
     "collapsed": false,
     "input": [
      "%matplotlib inline\n",
      "import numpy as np\n",
      "from matplotlib import pyplot as plt\n",
      "import scipy.stats as stats\n",
      "\n",
      "import pandas as pd\n",
      "import numpy as np"
     ],
     "language": "python",
     "metadata": {},
     "outputs": [],
     "prompt_number": 2
    },
    {
     "cell_type": "heading",
     "level": 3,
     "metadata": {},
     "source": [
      "Then we load the daily hours data that we will use for the analysis."
     ]
    },
    {
     "cell_type": "code",
     "collapsed": false,
     "input": [
      "results = []\n",
      "path  = \"study_data.tsv\"\n",
      "with open(path, \"r\") as data:\n",
      "    header = data.readline()\n",
      "    for line in data:\n",
      "        line = line.strip()\n",
      "        results.append(line.split(\"\\t\"))\n",
      "        \n",
      "hours_worked = []\n",
      "for row in results:\n",
      "    day_value = 0\n",
      "    count = 0\n",
      "    for cell in row:\n",
      "        if count>0:\n",
      "            day_value = float(cell) + day_value\n",
      "        count = count + 1\n",
      "    hours_worked.append(day_value)\n",
      "\n",
      "print header\n",
      "print hours_worked"
     ],
     "language": "python",
     "metadata": {},
     "outputs": [
      {
       "output_type": "stream",
       "stream": "stdout",
       "text": [
        "Date\tProgAbstractions\tVisualisation\tDatabases\tStatsInference\tStats110\tDataScience\tStatsUdacity\tNatLangProcessing\n",
        "\n",
        "[8.0, 6.0, 7.0, 8.0, 8.0, 8.0, 0.0, 10.0, 10.0, 10.0, 6.0, 8.0, 7.0, 2.0, 7.5, 6.0, 7.0, 8.0, 10.0, 4.5, 4.0, 3.0, 8.0, 7.5, 9.0, 8.0, 4.0, 6.0, 9.0, 2.0, 0.0, 0.0, 0.0, 0.0, 0.0, 0.0, 0.0, 0.0, 0.0, 2.0, 2.0, 0.0, 0.0, 0.0, 0.0, 2.0, 9.0, 8.0, 7.0, 6.0, 8.0, 10.0, 4.0, 8.0, 7.0, 9.0, 6.5, 7.0, 8.0, 3.5, 9.0, 7.0, 10.0, 8.0, 7.0, 9.0, 8.0, 7.0, 0.5, 9.0, 7.0, 9.0, 7.0, 9.0, 6.0, 0.0, 0.0, 5.5, 7.5, 7.0, 7.0, 6.0, 8.0, 2.0, 3.0, 4.0, 6.0, 5.0, 5.0, 5.0, 0.0, 0.0, 0.0, 3.0, 1.0, 7.0, 6.0, 8.0, 7.5, 7.0, 7.0, 6.0, 7.0, 8.5, 5.5, 6.0, 7.0, 8.5, 7.0, 7.0, 0.0, 7.0, 5.0, 7.0, 6.0, 7.0, 5.0, 0.0, 2.0, 6.0, 7.0, 7.0, 0.0, 0.0, 0.0, 0.0, 0.0, 0.0, 0.0, 0.0]\n"
       ]
      }
     ],
     "prompt_number": 3
    },
    {
     "cell_type": "heading",
     "level": 3,
     "metadata": {},
     "source": [
      "Removing chart junk from matplotlib configuration."
     ]
    },
    {
     "cell_type": "code",
     "collapsed": false,
     "input": [
      "import brewer2mpl\n",
      "from matplotlib import rcParams\n",
      "\n",
      "#colorbrewer2 Dark2 qualitative color table\n",
      "dark2_cmap = brewer2mpl.get_map('Dark2', 'Qualitative', 7)\n",
      "dark2_colors = dark2_cmap.mpl_colors\n",
      "\n",
      "rcParams['figure.figsize'] = (15, 7)\n",
      "rcParams['figure.dpi'] = 150\n",
      "rcParams['axes.color_cycle'] = dark2_colors\n",
      "rcParams['lines.linewidth'] = 2\n",
      "rcParams['axes.facecolor'] = 'white'\n",
      "rcParams['font.size'] = 14\n",
      "rcParams['patch.edgecolor'] = 'white'\n",
      "rcParams['patch.facecolor'] = dark2_colors[0]\n",
      "rcParams['font.family'] = 'StixGeneral'\n",
      "\n",
      "\n",
      "def remove_border(axes=None, top=False, right=False, left=True, bottom=True):\n",
      "    \"\"\"\n",
      "    Minimize chartjunk by stripping out unnecesasry plot borders and axis ticks\n",
      "    \n",
      "    The top/right/left/bottom keywords toggle whether the corresponding plot border is drawn\n",
      "    \"\"\"\n",
      "    ax = axes or plt.gca()\n",
      "    ax.spines['top'].set_visible(top)\n",
      "    ax.spines['right'].set_visible(right)\n",
      "    ax.spines['left'].set_visible(left)\n",
      "    ax.spines['bottom'].set_visible(bottom)\n",
      "    \n",
      "    #turn off all ticks\n",
      "    ax.yaxis.set_ticks_position('none')\n",
      "    ax.xaxis.set_ticks_position('none')\n",
      "    \n",
      "    #now re-enable visibles\n",
      "    if top:\n",
      "        ax.xaxis.tick_top()\n",
      "    if bottom:\n",
      "        ax.xaxis.tick_bottom()\n",
      "    if left:\n",
      "        ax.yaxis.tick_left()\n",
      "    if right:\n",
      "        ax.yaxis.tick_right()"
     ],
     "language": "python",
     "metadata": {},
     "outputs": [],
     "prompt_number": 4
    },
    {
     "cell_type": "heading",
     "level": 3,
     "metadata": {},
     "source": [
      "Creation of two datasets."
     ]
    },
    {
     "cell_type": "markdown",
     "metadata": {},
     "source": [
      "One is faithful to the original dataset and includes all time periods.\n",
      "The second removes all days with less than three hours worked to only reflect a \"working day\" dataset that has not been disrupted by being on holiday or travel."
     ]
    },
    {
     "cell_type": "code",
     "collapsed": false,
     "input": [
      "hours_worked = np.asarray(hours_worked) #Converting hours worked into a numpy array\n",
      "hours_worked = hours_worked[:122] #remove the last hours of the data as not populated\n",
      "n_count_data = len(hours_worked)\n",
      "n_day_data = np.arange(n_count_data) #Return evenly spaced values for the days\n",
      "\n",
      "boolean_index = hours_worked > 2 #Remove all days which appear to be holidays\n",
      "hours_worked2 = hours_worked[boolean_index]\n",
      "n_day_data2 = np.arange(len(hours_worked2))\n",
      "n_count_data2 = len(n_day_data2)\n",
      "\n",
      "#Check data where we remove holiday days when we did not work\n",
      "print hours_worked\n",
      "print hours_worked2"
     ],
     "language": "python",
     "metadata": {},
     "outputs": [
      {
       "output_type": "stream",
       "stream": "stdout",
       "text": [
        "[  8.    6.    7.    8.    8.    8.    0.   10.   10.   10.    6.    8.\n",
        "   7.    2.    7.5   6.    7.    8.   10.    4.5   4.    3.    8.    7.5\n",
        "   9.    8.    4.    6.    9.    2.    0.    0.    0.    0.    0.    0.\n",
        "   0.    0.    0.    2.    2.    0.    0.    0.    0.    2.    9.    8.\n",
        "   7.    6.    8.   10.    4.    8.    7.    9.    6.5   7.    8.    3.5\n",
        "   9.    7.   10.    8.    7.    9.    8.    7.    0.5   9.    7.    9.\n",
        "   7.    9.    6.    0.    0.    5.5   7.5   7.    7.    6.    8.    2.\n",
        "   3.    4.    6.    5.    5.    5.    0.    0.    0.    3.    1.    7.\n",
        "   6.    8.    7.5   7.    7.    6.    7.    8.5   5.5   6.    7.    8.5\n",
        "   7.    7.    0.    7.    5.    7.    6.    7.    5.    0.    2.    6.\n",
        "   7.    7. ]\n",
        "[  8.    6.    7.    8.    8.    8.   10.   10.   10.    6.    8.    7.\n",
        "   7.5   6.    7.    8.   10.    4.5   4.    3.    8.    7.5   9.    8.\n",
        "   4.    6.    9.    9.    8.    7.    6.    8.   10.    4.    8.    7.\n",
        "   9.    6.5   7.    8.    3.5   9.    7.   10.    8.    7.    9.    8.\n",
        "   7.    9.    7.    9.    7.    9.    6.    5.5   7.5   7.    7.    6.\n",
        "   8.    3.    4.    6.    5.    5.    5.    3.    7.    6.    8.    7.5\n",
        "   7.    7.    6.    7.    8.5   5.5   6.    7.    8.5   7.    7.    7.\n",
        "   5.    7.    6.    7.    5.    6.    7.    7. ]\n"
       ]
      }
     ],
     "prompt_number": 5
    },
    {
     "cell_type": "code",
     "collapsed": false,
     "input": [
      "fig, axes=plt.subplots(figsize=(15,5), nrows=1, ncols=1)\n",
      "fig.subplots_adjust(hspace = 0.5)\n",
      "\n",
      "axes.bar(n_day_data, hours_worked, color=\"#348ABD\")\n",
      "axes.set_xlabel(\"Time (days)\")\n",
      "axes.set_ylabel(\"Hours worked\")\n",
      "axes.set_title(\"Did our working habits change over time - full dataset\")\n",
      "axes.set_xlim(0, max(n_day_data));\n",
      "remove_border(axes)"
     ],
     "language": "python",
     "metadata": {},
     "outputs": [
      {
       "metadata": {},
       "output_type": "display_data",
       "png": "[encoded data removed]",
       "text": [
        "<matplotlib.figure.Figure at 0x108b869d0>"
       ]
      }
     ],
     "prompt_number": 12
    },
    {
     "cell_type": "code",
     "collapsed": false,
     "input": [
      "fig, axes=plt.subplots(figsize=(15,5), nrows=1, ncols=1)\n",
      "fig.subplots_adjust(hspace = 0.5)\n",
      "\n",
      "axes.bar(n_day_data2, hours_worked2, color=\"#348ABD\")\n",
      "axes.set_xlabel(\"Time (days)\")\n",
      "axes.set_ylabel(\"Hours worked\")\n",
      "axes.set_title(\"Did our working habits change over time - holiday periods removed\")\n",
      "axes.set_xlim(0, max(n_day_data2));\n",
      "remove_border(axes)"
     ],
     "language": "python",
     "metadata": {},
     "outputs": [
      {
       "metadata": {},
       "output_type": "display_data",
       "png": "[encoded data removed]",
       "text": [
        "<matplotlib.figure.Figure at 0x109ec54d0>"
       ]
      }
     ],
     "prompt_number": 11
    },
    {
     "cell_type": "heading",
     "level": 3,
     "metadata": {},
     "source": [
      "Define prior distributions"
     ]
    },
    {
     "cell_type": "markdown",
     "metadata": {},
     "source": [
      "Prior distributions represent our prior belief about how the data was created.\n",
      "\n",
      "We model the hours data as a Poisson distribution with parameter lambda; this makes sense as Poisson distribution deals with discrete count data. The rate parameter is what we believe may have changed during this period, possibly getting lower as some point in time.\n",
      "\n",
      "We do not know exactly when or whether this happened nor what value lambda takes however as it is a positive real number, a good choice of model is an exponential distribution with hyper-parameter alpha. Alpha is chosen to be the inverse of the average value of the hours worked, as a prior.\n",
      "\n",
      "The point(s) where we believe a shift in study behaviour has occurred is defined by tau.\n",
      "Within the dataset where we have kept all days, we define three uniform time distributions covering specific periods where we believe a different study dynamic may have been established; within each we search for a switch point.\n",
      "Within the second dataset, where days with less than 3h worked have been removed, we expect the shift in behaviour to happen within the main body of the study and therefore omit the first and last few days for the time period of the uniform distribution from which we pick the tau variable."
     ]
    },
    {
     "cell_type": "code",
     "collapsed": false,
     "input": [
      "import pymc as pm\n",
      "\n",
      "alpha = 1.0 / hours_worked.mean()  # Recall count_data is the variable that holds the hours worked\n",
      "lambda_a = pm.Exponential(\"lambda_a\", alpha)\n",
      "lambda_b = pm.Exponential(\"lambda_b\", alpha)\n",
      "lambda_c = pm.Exponential(\"lambda_c\", alpha)\n",
      "lambda_d = pm.Exponential(\"lambda_d\", alpha)\n",
      "tau_a = pm.DiscreteUniform(\"tau_a\", lower=0, upper=40)\n",
      "tau_b = pm.DiscreteUniform(\"tau_b\", lower=20, upper=60)\n",
      "tau_c = pm.DiscreteUniform(\"tau_c\", lower=60, upper=n_count_data)\n",
      "\n",
      "alpha2 = 1.0 / hours_worked2.mean()  # Recall count_data is the variable that holds the hours worked\n",
      "lambda_3 = pm.Exponential(\"lambda_3\", alpha2)\n",
      "lambda_4 = pm.Exponential(\"lambda_4\", alpha2)\n",
      "tau2 = pm.DiscreteUniform(\"tau2\", lower=10, upper=90)"
     ],
     "language": "python",
     "metadata": {},
     "outputs": [],
     "prompt_number": 126
    },
    {
     "cell_type": "markdown",
     "metadata": {},
     "source": [
      "Define the deterministic functions for the random variable lambda for each of our datasets."
     ]
    },
    {
     "cell_type": "code",
     "collapsed": false,
     "input": [
      "@pm.deterministic\n",
      "def lambda_(tau_a=tau_a, tau_b=tau_b, tau_c=tau_c, lambda_a=lambda_a, lambda_b=lambda_b, lambda_c=lambda_c, lambda_d=lambda_d):\n",
      "    out = np.zeros(n_count_data)\n",
      "    out[:tau_a] = lambda_a  # lambda before tau_a is lambda_a\n",
      "    out[tau_a:tau_b] = lambda_b  # lambda before tau_a is lambda_b\n",
      "    out[tau_b:tau_c] = lambda_c  # lambda before tau_a is lambda_c\n",
      "    out[tau_c:] = lambda_d  # lambda before tau_a is lambda_d\n",
      "    return out\n",
      "\n",
      "@pm.deterministic\n",
      "def lambda2_(tau2=tau2, lambda_3=lambda_3, lambda_4=lambda_4):\n",
      "    out = np.zeros(n_count_data2)\n",
      "    out[:tau2] = lambda_3  # lambda before tau is lambda1\n",
      "    out[tau2:] = lambda_4  # lambda after (and including) tau is lambda2\n",
      "    return out"
     ],
     "language": "python",
     "metadata": {},
     "outputs": [],
     "prompt_number": 127
    },
    {
     "cell_type": "markdown",
     "metadata": {},
     "source": [
      "Setup the model including all the random variables we want to sample from during the MCMC process for both our datasets."
     ]
    },
    {
     "cell_type": "code",
     "collapsed": false,
     "input": [
      "#This creates an observation variable. We set observed = True to tell PyMC that this should stay fixed in our analysis\n",
      "observation = pm.Poisson(\"obs\", lambda_, value=hours_worked, observed=True)\n",
      "model = pm.Model([observation, lambda_a, lambda_b, lambda_c, lambda_d, tau_a, tau_b, tau_c])\n",
      "\n",
      "observation2 = pm.Poisson(\"obs\", lambda2_, value=hours_worked2, observed=True)\n",
      "model2 = pm.Model([observation2, lambda_3, lambda_4, tau2])"
     ],
     "language": "python",
     "metadata": {},
     "outputs": [],
     "prompt_number": 128
    },
    {
     "cell_type": "markdown",
     "metadata": {},
     "source": [
      "Run the PyMC model for both datasets."
     ]
    },
    {
     "cell_type": "code",
     "collapsed": false,
     "input": [
      "#The model is fed into the pre-built MCMC architecture which samples from the posterior distribution\n",
      "mcmc = pm.MCMC(model)\n",
      "mcmc.sample(250000, 10000, 2)"
     ],
     "language": "python",
     "metadata": {},
     "outputs": [
      {
       "output_type": "stream",
       "stream": "stdout",
       "text": [
        "\r",
        " [                  0%                  ] 948 of 250000 complete in 0.5 sec"
       ]
      },
      {
       "output_type": "stream",
       "stream": "stdout",
       "text": [
        "\r",
        " [                  0%                  ] 1903 of 250000 complete in 1.0 sec"
       ]
      },
      {
       "output_type": "stream",
       "stream": "stdout",
       "text": [
        "\r",
        " [                  1%                  ] 2776 of 250000 complete in 1.5 sec"
       ]
      },
      {
       "output_type": "stream",
       "stream": "stdout",
       "text": [
        "\r",
        " [                  1%                  ] 3640 of 250000 complete in 2.0 sec"
       ]
      },
      {
       "output_type": "stream",
       "stream": "stdout",
       "text": [
        "\r",
        " [                  1%                  ] 4550 of 250000 complete in 2.5 sec"
       ]
      },
      {
       "output_type": "stream",
       "stream": "stdout",
       "text": [
        "\r",
        " [                  2%                  ] 5536 of 250000 complete in 3.0 sec"
       ]
      },
      {
       "output_type": "stream",
       "stream": "stdout",
       "text": [
        "\r",
        " [                  2%                  ] 6427 of 250000 complete in 3.5 sec"
       ]
      },
      {
       "output_type": "stream",
       "stream": "stdout",
       "text": [
        "\r",
        " [-                 2%                  ] 7282 of 250000 complete in 4.0 sec"
       ]
      },
      {
       "output_type": "stream",
       "stream": "stdout",
       "text": [
        "\r",
        " [-                 3%                  ] 8100 of 250000 complete in 4.5 sec"
       ]
      },
      {
       "output_type": "stream",
       "stream": "stdout",
       "text": [
        "\r",
        " [-                 3%                  ] 9136 of 250000 complete in 5.0 sec"
       ]
      },
      {
       "output_type": "stream",
       "stream": "stdout",
       "text": [
        "\r",
        " [-                 4%                  ] 10092 of 250000 complete in 5.5 sec"
       ]
      },
      {
       "output_type": "stream",
       "stream": "stdout",
       "text": [
        "\r",
        " [-                 4%                  ] 11011 of 250000 complete in 6.0 sec"
       ]
      },
      {
       "output_type": "stream",
       "stream": "stdout",
       "text": [
        "\r",
        " [-                 4%                  ] 11720 of 250000 complete in 6.5 sec"
       ]
      },
      {
       "output_type": "stream",
       "stream": "stdout",
       "text": [
        "\r",
        " [-                 5%                  ] 12614 of 250000 complete in 7.0 sec"
       ]
      },
      {
       "output_type": "stream",
       "stream": "stdout",
       "text": [
        "\r",
        " [--                5%                  ] 13406 of 250000 complete in 7.5 sec"
       ]
      },
      {
       "output_type": "stream",
       "stream": "stdout",
       "text": [
        "\r",
        " [--                5%                  ] 14199 of 250000 complete in 8.0 sec"
       ]
      },
      {
       "output_type": "stream",
       "stream": "stdout",
       "text": [
        "\r",
        " [--                6%                  ] 15254 of 250000 complete in 8.5 sec"
       ]
      },
      {
       "output_type": "stream",
       "stream": "stdout",
       "text": [
        "\r",
        " [--                6%                  ] 15997 of 250000 complete in 9.0 sec"
       ]
      },
      {
       "output_type": "stream",
       "stream": "stdout",
       "text": [
        "\r",
        " [--                6%                  ] 16757 of 250000 complete in 9.5 sec"
       ]
      },
      {
       "output_type": "stream",
       "stream": "stdout",
       "text": [
        "\r",
        " [--                6%                  ] 17496 of 250000 complete in 10.0 sec"
       ]
      },
      {
       "output_type": "stream",
       "stream": "stdout",
       "text": [
        "\r",
        " [--                7%                  ] 18323 of 250000 complete in 10.5 sec"
       ]
      },
      {
       "output_type": "stream",
       "stream": "stdout",
       "text": [
        "\r",
        " [--                7%                  ] 19089 of 250000 complete in 11.0 sec"
       ]
      },
      {
       "output_type": "stream",
       "stream": "stdout",
       "text": [
        "\r",
        " [---               7%                  ] 19799 of 250000 complete in 11.5 sec"
       ]
      },
      {
       "output_type": "stream",
       "stream": "stdout",
       "text": [
        "\r",
        " [---               8%                  ] 20619 of 250000 complete in 12.0 sec"
       ]
      },
      {
       "output_type": "stream",
       "stream": "stdout",
       "text": [
        "\r",
        " [---               8%                  ] 21328 of 250000 complete in 12.5 sec"
       ]
      },
      {
       "output_type": "stream",
       "stream": "stdout",
       "text": [
        "\r",
        " [---               8%                  ] 22020 of 250000 complete in 13.0 sec"
       ]
      },
      {
       "output_type": "stream",
       "stream": "stdout",
       "text": [
        "\r",
        " [---               9%                  ] 22819 of 250000 complete in 13.5 sec"
       ]
      },
      {
       "output_type": "stream",
       "stream": "stdout",
       "text": [
        "\r",
        " [---               9%                  ] 23545 of 250000 complete in 14.0 sec"
       ]
      },
      {
       "output_type": "stream",
       "stream": "stdout",
       "text": [
        "\r",
        " [---               9%                  ] 24229 of 250000 complete in 14.5 sec"
       ]
      },
      {
       "output_type": "stream",
       "stream": "stdout",
       "text": [
        "\r",
        " [---               9%                  ] 24940 of 250000 complete in 15.0 sec"
       ]
      },
      {
       "output_type": "stream",
       "stream": "stdout",
       "text": [
        "\r",
        " [---              10%                  ] 25696 of 250000 complete in 15.5 sec"
       ]
      },
      {
       "output_type": "stream",
       "stream": "stdout",
       "text": [
        "\r",
        " [----             10%                  ] 26609 of 250000 complete in 16.0 sec"
       ]
      },
      {
       "output_type": "stream",
       "stream": "stdout",
       "text": [
        "\r",
        " [----             11%                  ] 27619 of 250000 complete in 16.5 sec"
       ]
      },
      {
       "output_type": "stream",
       "stream": "stdout",
       "text": [
        "\r",
        " [----             11%                  ] 28677 of 250000 complete in 17.0 sec"
       ]
      },
      {
       "output_type": "stream",
       "stream": "stdout",
       "text": [
        "\r",
        " [----             11%                  ] 29801 of 250000 complete in 17.5 sec"
       ]
      },
      {
       "output_type": "stream",
       "stream": "stdout",
       "text": [
        "\r",
        " [----             12%                  ] 30914 of 250000 complete in 18.0 sec"
       ]
      },
      {
       "output_type": "stream",
       "stream": "stdout",
       "text": [
        "\r",
        " [----             12%                  ] 32051 of 250000 complete in 18.5 sec"
       ]
      },
      {
       "output_type": "stream",
       "stream": "stdout",
       "text": [
        "\r",
        " [-----            13%                  ] 32970 of 250000 complete in 19.0 sec"
       ]
      },
      {
       "output_type": "stream",
       "stream": "stdout",
       "text": [
        "\r",
        " [-----            13%                  ] 33943 of 250000 complete in 19.5 sec"
       ]
      },
      {
       "output_type": "stream",
       "stream": "stdout",
       "text": [
        "\r",
        " [-----            13%                  ] 34925 of 250000 complete in 20.0 sec"
       ]
      },
      {
       "output_type": "stream",
       "stream": "stdout",
       "text": [
        "\r",
        " [-----            14%                  ] 35855 of 250000 complete in 20.5 sec"
       ]
      },
      {
       "output_type": "stream",
       "stream": "stdout",
       "text": [
        "\r",
        " [-----            14%                  ] 36666 of 250000 complete in 21.0 sec"
       ]
      },
      {
       "output_type": "stream",
       "stream": "stdout",
       "text": [
        "\r",
        " [-----            15%                  ] 37688 of 250000 complete in 21.5 sec"
       ]
      },
      {
       "output_type": "stream",
       "stream": "stdout",
       "text": [
        "\r",
        " [-----            15%                  ] 38705 of 250000 complete in 22.0 sec"
       ]
      },
      {
       "output_type": "stream",
       "stream": "stdout",
       "text": [
        "\r",
        " [------           15%                  ] 39750 of 250000 complete in 22.5 sec"
       ]
      },
      {
       "output_type": "stream",
       "stream": "stdout",
       "text": [
        "\r",
        " [------           16%                  ] 40816 of 250000 complete in 23.0 sec"
       ]
      },
      {
       "output_type": "stream",
       "stream": "stdout",
       "text": [
        "\r",
        " [------           16%                  ] 41865 of 250000 complete in 23.5 sec"
       ]
      },
      {
       "output_type": "stream",
       "stream": "stdout",
       "text": [
        "\r",
        " [------           17%                  ] 42834 of 250000 complete in 24.0 sec"
       ]
      },
      {
       "output_type": "stream",
       "stream": "stdout",
       "text": [
        "\r",
        " [------           17%                  ] 43794 of 250000 complete in 24.5 sec"
       ]
      },
      {
       "output_type": "stream",
       "stream": "stdout",
       "text": [
        "\r",
        " [------           17%                  ] 44793 of 250000 complete in 25.0 sec"
       ]
      },
      {
       "output_type": "stream",
       "stream": "stdout",
       "text": [
        "\r",
        " [------           18%                  ] 45757 of 250000 complete in 25.5 sec"
       ]
      },
      {
       "output_type": "stream",
       "stream": "stdout",
       "text": [
        "\r",
        " [-------          18%                  ] 46631 of 250000 complete in 26.0 sec"
       ]
      },
      {
       "output_type": "stream",
       "stream": "stdout",
       "text": [
        "\r",
        " [-------          19%                  ] 47668 of 250000 complete in 26.5 sec"
       ]
      },
      {
       "output_type": "stream",
       "stream": "stdout",
       "text": [
        "\r",
        " [-------          19%                  ] 48612 of 250000 complete in 27.0 sec"
       ]
      },
      {
       "output_type": "stream",
       "stream": "stdout",
       "text": [
        "\r",
        " [-------          19%                  ] 49671 of 250000 complete in 27.5 sec"
       ]
      },
      {
       "output_type": "stream",
       "stream": "stdout",
       "text": [
        "\r",
        " [-------          20%                  ] 50749 of 250000 complete in 28.0 sec"
       ]
      },
      {
       "output_type": "stream",
       "stream": "stdout",
       "text": [
        "\r",
        " [-------          20%                  ] 51841 of 250000 complete in 28.5 sec"
       ]
      },
      {
       "output_type": "stream",
       "stream": "stdout",
       "text": [
        "\r",
        " [--------         21%                  ] 52683 of 250000 complete in 29.0 sec"
       ]
      },
      {
       "output_type": "stream",
       "stream": "stdout",
       "text": [
        "\r",
        " [--------         21%                  ] 53405 of 250000 complete in 29.5 sec"
       ]
      },
      {
       "output_type": "stream",
       "stream": "stdout",
       "text": [
        "\r",
        " [--------         21%                  ] 54443 of 250000 complete in 30.0 sec"
       ]
      },
      {
       "output_type": "stream",
       "stream": "stdout",
       "text": [
        "\r",
        " [--------         22%                  ] 55464 of 250000 complete in 30.5 sec"
       ]
      },
      {
       "output_type": "stream",
       "stream": "stdout",
       "text": [
        "\r",
        " [--------         22%                  ] 56256 of 250000 complete in 31.0 sec"
       ]
      },
      {
       "output_type": "stream",
       "stream": "stdout",
       "text": [
        "\r",
        " [--------         22%                  ] 57303 of 250000 complete in 31.5 sec"
       ]
      },
      {
       "output_type": "stream",
       "stream": "stdout",
       "text": [
        "\r",
        " [--------         23%                  ] 58229 of 250000 complete in 32.0 sec"
       ]
      },
      {
       "output_type": "stream",
       "stream": "stdout",
       "text": [
        "\r",
        " [--------         23%                  ] 58907 of 250000 complete in 32.5 sec"
       ]
      },
      {
       "output_type": "stream",
       "stream": "stdout",
       "text": [
        "\r",
        " [---------        23%                  ] 59737 of 250000 complete in 33.0 sec"
       ]
      },
      {
       "output_type": "stream",
       "stream": "stdout",
       "text": [
        "\r",
        " [---------        24%                  ] 60821 of 250000 complete in 33.5 sec"
       ]
      },
      {
       "output_type": "stream",
       "stream": "stdout",
       "text": [
        "\r",
        " [---------        24%                  ] 61750 of 250000 complete in 34.0 sec"
       ]
      },
      {
       "output_type": "stream",
       "stream": "stdout",
       "text": [
        "\r",
        " [---------        25%                  ] 62589 of 250000 complete in 34.5 sec"
       ]
      },
      {
       "output_type": "stream",
       "stream": "stdout",
       "text": [
        "\r",
        " [---------        25%                  ] 63365 of 250000 complete in 35.0 sec"
       ]
      },
      {
       "output_type": "stream",
       "stream": "stdout",
       "text": [
        "\r",
        " [---------        25%                  ] 64316 of 250000 complete in 35.5 sec"
       ]
      },
      {
       "output_type": "stream",
       "stream": "stdout",
       "text": [
        "\r",
        " [---------        26%                  ] 65296 of 250000 complete in 36.0 sec"
       ]
      },
      {
       "output_type": "stream",
       "stream": "stdout",
       "text": [
        "\r",
        " [----------       26%                  ] 66415 of 250000 complete in 36.5 sec"
       ]
      },
      {
       "output_type": "stream",
       "stream": "stdout",
       "text": [
        "\r",
        " [----------       27%                  ] 67517 of 250000 complete in 37.0 sec"
       ]
      },
      {
       "output_type": "stream",
       "stream": "stdout",
       "text": [
        "\r",
        " [----------       27%                  ] 68390 of 250000 complete in 37.5 sec"
       ]
      },
      {
       "output_type": "stream",
       "stream": "stdout",
       "text": [
        "\r",
        " [----------       27%                  ] 69449 of 250000 complete in 38.0 sec"
       ]
      },
      {
       "output_type": "stream",
       "stream": "stdout",
       "text": [
        "\r",
        " [----------       28%                  ] 70406 of 250000 complete in 38.5 sec"
       ]
      },
      {
       "output_type": "stream",
       "stream": "stdout",
       "text": [
        "\r",
        " [----------       28%                  ] 71503 of 250000 complete in 39.0 sec"
       ]
      },
      {
       "output_type": "stream",
       "stream": "stdout",
       "text": [
        "\r",
        " [-----------      29%                  ] 72570 of 250000 complete in 39.5 sec"
       ]
      },
      {
       "output_type": "stream",
       "stream": "stdout",
       "text": [
        "\r",
        " [-----------      29%                  ] 73572 of 250000 complete in 40.0 sec"
       ]
      },
      {
       "output_type": "stream",
       "stream": "stdout",
       "text": [
        "\r",
        " [-----------      29%                  ] 74637 of 250000 complete in 40.5 sec"
       ]
      },
      {
       "output_type": "stream",
       "stream": "stdout",
       "text": [
        "\r",
        " [-----------      30%                  ] 75719 of 250000 complete in 41.0 sec"
       ]
      },
      {
       "output_type": "stream",
       "stream": "stdout",
       "text": [
        "\r",
        " [-----------      30%                  ] 76814 of 250000 complete in 41.5 sec"
       ]
      },
      {
       "output_type": "stream",
       "stream": "stdout",
       "text": [
        "\r",
        " [-----------      31%                  ] 77906 of 250000 complete in 42.0 sec"
       ]
      },
      {
       "output_type": "stream",
       "stream": "stdout",
       "text": [
        "\r",
        " [------------     31%                  ] 78988 of 250000 complete in 42.5 sec"
       ]
      },
      {
       "output_type": "stream",
       "stream": "stdout",
       "text": [
        "\r",
        " [------------     32%                  ] 80071 of 250000 complete in 43.0 sec"
       ]
      },
      {
       "output_type": "stream",
       "stream": "stdout",
       "text": [
        "\r",
        " [------------     32%                  ] 81178 of 250000 complete in 43.5 sec"
       ]
      },
      {
       "output_type": "stream",
       "stream": "stdout",
       "text": [
        "\r",
        " [------------     32%                  ] 82189 of 250000 complete in 44.0 sec"
       ]
      },
      {
       "output_type": "stream",
       "stream": "stdout",
       "text": [
        "\r",
        " [------------     33%                  ] 83281 of 250000 complete in 44.5 sec"
       ]
      },
      {
       "output_type": "stream",
       "stream": "stdout",
       "text": [
        "\r",
        " [------------     33%                  ] 84344 of 250000 complete in 45.0 sec"
       ]
      },
      {
       "output_type": "stream",
       "stream": "stdout",
       "text": [
        "\r",
        " [------------     34%                  ] 85427 of 250000 complete in 45.5 sec"
       ]
      },
      {
       "output_type": "stream",
       "stream": "stdout",
       "text": [
        "\r",
        " [-------------    34%                  ] 86497 of 250000 complete in 46.0 sec"
       ]
      },
      {
       "output_type": "stream",
       "stream": "stdout",
       "text": [
        "\r",
        " [-------------    35%                  ] 87585 of 250000 complete in 46.5 sec"
       ]
      },
      {
       "output_type": "stream",
       "stream": "stdout",
       "text": [
        "\r",
        " [-------------    35%                  ] 88633 of 250000 complete in 47.0 sec"
       ]
      },
      {
       "output_type": "stream",
       "stream": "stdout",
       "text": [
        "\r",
        " [-------------    35%                  ] 89712 of 250000 complete in 47.5 sec"
       ]
      },
      {
       "output_type": "stream",
       "stream": "stdout",
       "text": [
        "\r",
        " [-------------    36%                  ] 90792 of 250000 complete in 48.0 sec"
       ]
      },
      {
       "output_type": "stream",
       "stream": "stdout",
       "text": [
        "\r",
        " [-------------    36%                  ] 91892 of 250000 complete in 48.5 sec"
       ]
      },
      {
       "output_type": "stream",
       "stream": "stdout",
       "text": [
        "\r",
        " [--------------   37%                  ] 92974 of 250000 complete in 49.0 sec"
       ]
      },
      {
       "output_type": "stream",
       "stream": "stdout",
       "text": [
        "\r",
        " [--------------   37%                  ] 94049 of 250000 complete in 49.5 sec"
       ]
      },
      {
       "output_type": "stream",
       "stream": "stdout",
       "text": [
        "\r",
        " [--------------   38%                  ] 95130 of 250000 complete in 50.0 sec"
       ]
      },
      {
       "output_type": "stream",
       "stream": "stdout",
       "text": [
        "\r",
        " [--------------   38%                  ] 96209 of 250000 complete in 50.5 sec"
       ]
      },
      {
       "output_type": "stream",
       "stream": "stdout",
       "text": [
        "\r",
        " [--------------   38%                  ] 97243 of 250000 complete in 51.0 sec"
       ]
      },
      {
       "output_type": "stream",
       "stream": "stdout",
       "text": [
        "\r",
        " [--------------   39%                  ] 98267 of 250000 complete in 51.5 sec"
       ]
      },
      {
       "output_type": "stream",
       "stream": "stdout",
       "text": [
        "\r",
        " [---------------  39%                  ] 99332 of 250000 complete in 52.0 sec"
       ]
      },
      {
       "output_type": "stream",
       "stream": "stdout",
       "text": [
        "\r",
        " [---------------  40%                  ] 100432 of 250000 complete in 52.5 sec"
       ]
      },
      {
       "output_type": "stream",
       "stream": "stdout",
       "text": [
        "\r",
        " [---------------  40%                  ] 101492 of 250000 complete in 53.0 sec"
       ]
      },
      {
       "output_type": "stream",
       "stream": "stdout",
       "text": [
        "\r",
        " [---------------  41%                  ] 102572 of 250000 complete in 53.5 sec"
       ]
      },
      {
       "output_type": "stream",
       "stream": "stdout",
       "text": [
        "\r",
        " [---------------  41%                  ] 103595 of 250000 complete in 54.0 sec"
       ]
      },
      {
       "output_type": "stream",
       "stream": "stdout",
       "text": [
        "\r",
        " [---------------  41%                  ] 104560 of 250000 complete in 54.5 sec"
       ]
      },
      {
       "output_type": "stream",
       "stream": "stdout",
       "text": [
        "\r",
        " [---------------- 42%                  ] 105275 of 250000 complete in 55.0 sec"
       ]
      },
      {
       "output_type": "stream",
       "stream": "stdout",
       "text": [
        "\r",
        " [---------------- 42%                  ] 106019 of 250000 complete in 55.5 sec"
       ]
      },
      {
       "output_type": "stream",
       "stream": "stdout",
       "text": [
        "\r",
        " [---------------- 42%                  ] 106792 of 250000 complete in 56.0 sec"
       ]
      },
      {
       "output_type": "stream",
       "stream": "stdout",
       "text": [
        "\r",
        " [---------------- 43%                  ] 107893 of 250000 complete in 56.5 sec"
       ]
      },
      {
       "output_type": "stream",
       "stream": "stdout",
       "text": [
        "\r",
        " [---------------- 43%                  ] 108753 of 250000 complete in 57.0 sec"
       ]
      },
      {
       "output_type": "stream",
       "stream": "stdout",
       "text": [
        "\r",
        " [---------------- 43%                  ] 109606 of 250000 complete in 57.5 sec"
       ]
      },
      {
       "output_type": "stream",
       "stream": "stdout",
       "text": [
        "\r",
        " [---------------- 44%                  ] 110467 of 250000 complete in 58.0 sec"
       ]
      },
      {
       "output_type": "stream",
       "stream": "stdout",
       "text": [
        "\r",
        " [---------------- 44%                  ] 111407 of 250000 complete in 58.5 sec"
       ]
      },
      {
       "output_type": "stream",
       "stream": "stdout",
       "text": [
        "\r",
        " [-----------------44%                  ] 112235 of 250000 complete in 59.0 sec"
       ]
      },
      {
       "output_type": "stream",
       "stream": "stdout",
       "text": [
        "\r",
        " [-----------------45%                  ] 113110 of 250000 complete in 59.5 sec"
       ]
      },
      {
       "output_type": "stream",
       "stream": "stdout",
       "text": [
        "\r",
        " [-----------------45%                  ] 114017 of 250000 complete in 60.0 sec"
       ]
      },
      {
       "output_type": "stream",
       "stream": "stdout",
       "text": [
        "\r",
        " [-----------------45%                  ] 114819 of 250000 complete in 60.5 sec"
       ]
      },
      {
       "output_type": "stream",
       "stream": "stdout",
       "text": [
        "\r",
        " [-----------------46%                  ] 115645 of 250000 complete in 61.0 sec"
       ]
      },
      {
       "output_type": "stream",
       "stream": "stdout",
       "text": [
        "\r",
        " [-----------------46%                  ] 116638 of 250000 complete in 61.5 sec"
       ]
      },
      {
       "output_type": "stream",
       "stream": "stdout",
       "text": [
        "\r",
        " [-----------------47%                  ] 117612 of 250000 complete in 62.0 sec"
       ]
      },
      {
       "output_type": "stream",
       "stream": "stdout",
       "text": [
        "\r",
        " [-----------------47%                  ] 118722 of 250000 complete in 62.5 sec"
       ]
      },
      {
       "output_type": "stream",
       "stream": "stdout",
       "text": [
        "\r",
        " [-----------------47%                  ] 119816 of 250000 complete in 63.0 sec"
       ]
      },
      {
       "output_type": "stream",
       "stream": "stdout",
       "text": [
        "\r",
        " [-----------------48%                  ] 120866 of 250000 complete in 63.5 sec"
       ]
      },
      {
       "output_type": "stream",
       "stream": "stdout",
       "text": [
        "\r",
        " [-----------------48%                  ] 121975 of 250000 complete in 64.0 sec"
       ]
      },
      {
       "output_type": "stream",
       "stream": "stdout",
       "text": [
        "\r",
        " [-----------------49%                  ] 123073 of 250000 complete in 64.5 sec"
       ]
      },
      {
       "output_type": "stream",
       "stream": "stdout",
       "text": [
        "\r",
        " [-----------------49%                  ] 124136 of 250000 complete in 65.0 sec"
       ]
      },
      {
       "output_type": "stream",
       "stream": "stdout",
       "text": [
        "\r",
        " [-----------------49%                  ] 124971 of 250000 complete in 65.5 sec"
       ]
      },
      {
       "output_type": "stream",
       "stream": "stdout",
       "text": [
        "\r",
        " [-----------------50%                  ] 125720 of 250000 complete in 66.0 sec"
       ]
      },
      {
       "output_type": "stream",
       "stream": "stdout",
       "text": [
        "\r",
        " [-----------------50%                  ] 126407 of 250000 complete in 66.5 sec"
       ]
      },
      {
       "output_type": "stream",
       "stream": "stdout",
       "text": [
        "\r",
        " [-----------------50%                  ] 127119 of 250000 complete in 67.0 sec"
       ]
      },
      {
       "output_type": "stream",
       "stream": "stdout",
       "text": [
        "\r",
        " [-----------------51%                  ] 127980 of 250000 complete in 67.5 sec"
       ]
      },
      {
       "output_type": "stream",
       "stream": "stdout",
       "text": [
        "\r",
        " [-----------------51%                  ] 128752 of 250000 complete in 68.0 sec"
       ]
      },
      {
       "output_type": "stream",
       "stream": "stdout",
       "text": [
        "\r",
        " [-----------------51%                  ] 129692 of 250000 complete in 68.5 sec"
       ]
      },
      {
       "output_type": "stream",
       "stream": "stdout",
       "text": [
        "\r",
        " [-----------------52%                  ] 130702 of 250000 complete in 69.0 sec"
       ]
      },
      {
       "output_type": "stream",
       "stream": "stdout",
       "text": [
        "\r",
        " [-----------------52%                  ] 131667 of 250000 complete in 69.5 sec"
       ]
      },
      {
       "output_type": "stream",
       "stream": "stdout",
       "text": [
        "\r",
        " [-----------------53%                  ] 132769 of 250000 complete in 70.0 sec"
       ]
      },
      {
       "output_type": "stream",
       "stream": "stdout",
       "text": [
        "\r",
        " [-----------------53%                  ] 133848 of 250000 complete in 70.5 sec"
       ]
      },
      {
       "output_type": "stream",
       "stream": "stdout",
       "text": [
        "\r",
        " [-----------------53%                  ] 134931 of 250000 complete in 71.0 sec"
       ]
      },
      {
       "output_type": "stream",
       "stream": "stdout",
       "text": [
        "\r",
        " [-----------------54%                  ] 136029 of 250000 complete in 71.5 sec"
       ]
      },
      {
       "output_type": "stream",
       "stream": "stdout",
       "text": [
        "\r",
        " [-----------------54%                  ] 137119 of 250000 complete in 72.0 sec"
       ]
      },
      {
       "output_type": "stream",
       "stream": "stdout",
       "text": [
        "\r",
        " [-----------------55%-                 ] 138173 of 250000 complete in 72.5 sec"
       ]
      },
      {
       "output_type": "stream",
       "stream": "stdout",
       "text": [
        "\r",
        " [-----------------55%-                 ] 139270 of 250000 complete in 73.0 sec"
       ]
      },
      {
       "output_type": "stream",
       "stream": "stdout",
       "text": [
        "\r",
        " [-----------------56%-                 ] 140357 of 250000 complete in 73.5 sec"
       ]
      },
      {
       "output_type": "stream",
       "stream": "stdout",
       "text": [
        "\r",
        " [-----------------56%-                 ] 141392 of 250000 complete in 74.0 sec"
       ]
      },
      {
       "output_type": "stream",
       "stream": "stdout",
       "text": [
        "\r",
        " [-----------------56%-                 ] 142457 of 250000 complete in 74.5 sec"
       ]
      },
      {
       "output_type": "stream",
       "stream": "stdout",
       "text": [
        "\r",
        " [-----------------57%-                 ] 143522 of 250000 complete in 75.0 sec"
       ]
      },
      {
       "output_type": "stream",
       "stream": "stdout",
       "text": [
        "\r",
        " [-----------------57%-                 ] 144622 of 250000 complete in 75.5 sec"
       ]
      },
      {
       "output_type": "stream",
       "stream": "stdout",
       "text": [
        "\r",
        " [-----------------58%--                ] 145697 of 250000 complete in 76.0 sec"
       ]
      },
      {
       "output_type": "stream",
       "stream": "stdout",
       "text": [
        "\r",
        " [-----------------58%--                ] 146780 of 250000 complete in 76.5 sec"
       ]
      },
      {
       "output_type": "stream",
       "stream": "stdout",
       "text": [
        "\r",
        " [-----------------59%--                ] 147866 of 250000 complete in 77.0 sec"
       ]
      },
      {
       "output_type": "stream",
       "stream": "stdout",
       "text": [
        "\r",
        " [-----------------59%--                ] 148968 of 250000 complete in 77.5 sec"
       ]
      },
      {
       "output_type": "stream",
       "stream": "stdout",
       "text": [
        "\r",
        " [-----------------60%--                ] 150052 of 250000 complete in 78.0 sec"
       ]
      },
      {
       "output_type": "stream",
       "stream": "stdout",
       "text": [
        "\r",
        " [-----------------60%--                ] 151112 of 250000 complete in 78.5 sec"
       ]
      },
      {
       "output_type": "stream",
       "stream": "stdout",
       "text": [
        "\r",
        " [-----------------60%---               ] 152192 of 250000 complete in 79.0 sec"
       ]
      },
      {
       "output_type": "stream",
       "stream": "stdout",
       "text": [
        "\r",
        " [-----------------61%---               ] 153287 of 250000 complete in 79.5 sec"
       ]
      },
      {
       "output_type": "stream",
       "stream": "stdout",
       "text": [
        "\r",
        " [-----------------61%---               ] 154339 of 250000 complete in 80.0 sec"
       ]
      },
      {
       "output_type": "stream",
       "stream": "stdout",
       "text": [
        "\r",
        " [-----------------62%---               ] 155435 of 250000 complete in 80.5 sec"
       ]
      },
      {
       "output_type": "stream",
       "stream": "stdout",
       "text": [
        "\r",
        " [-----------------62%---               ] 156484 of 250000 complete in 81.0 sec"
       ]
      },
      {
       "output_type": "stream",
       "stream": "stdout",
       "text": [
        "\r",
        " [-----------------62%---               ] 157456 of 250000 complete in 81.5 sec"
       ]
      },
      {
       "output_type": "stream",
       "stream": "stdout",
       "text": [
        "\r",
        " [-----------------63%----              ] 158222 of 250000 complete in 82.0 sec"
       ]
      },
      {
       "output_type": "stream",
       "stream": "stdout",
       "text": [
        "\r",
        " [-----------------63%----              ] 159057 of 250000 complete in 82.5 sec"
       ]
      },
      {
       "output_type": "stream",
       "stream": "stdout",
       "text": [
        "\r",
        " [-----------------63%----              ] 159959 of 250000 complete in 83.0 sec"
       ]
      },
      {
       "output_type": "stream",
       "stream": "stdout",
       "text": [
        "\r",
        " [-----------------64%----              ] 160956 of 250000 complete in 83.5 sec"
       ]
      },
      {
       "output_type": "stream",
       "stream": "stdout",
       "text": [
        "\r",
        " [-----------------64%----              ] 161887 of 250000 complete in 84.0 sec"
       ]
      },
      {
       "output_type": "stream",
       "stream": "stdout",
       "text": [
        "\r",
        " [-----------------65%----              ] 163012 of 250000 complete in 84.5 sec"
       ]
      },
      {
       "output_type": "stream",
       "stream": "stdout",
       "text": [
        "\r",
        " [-----------------65%----              ] 164113 of 250000 complete in 85.0 sec"
       ]
      },
      {
       "output_type": "stream",
       "stream": "stdout",
       "text": [
        "\r",
        " [-----------------66%-----             ] 165218 of 250000 complete in 85.5 sec"
       ]
      },
      {
       "output_type": "stream",
       "stream": "stdout",
       "text": [
        "\r",
        " [-----------------66%-----             ] 166331 of 250000 complete in 86.0 sec"
       ]
      },
      {
       "output_type": "stream",
       "stream": "stdout",
       "text": [
        "\r",
        " [-----------------66%-----             ] 167436 of 250000 complete in 86.5 sec"
       ]
      },
      {
       "output_type": "stream",
       "stream": "stdout",
       "text": [
        "\r",
        " [-----------------67%-----             ] 168429 of 250000 complete in 87.0 sec"
       ]
      },
      {
       "output_type": "stream",
       "stream": "stdout",
       "text": [
        "\r",
        " [-----------------67%-----             ] 169336 of 250000 complete in 87.5 sec"
       ]
      },
      {
       "output_type": "stream",
       "stream": "stdout",
       "text": [
        "\r",
        " [-----------------68%-----             ] 170327 of 250000 complete in 88.0 sec"
       ]
      },
      {
       "output_type": "stream",
       "stream": "stdout",
       "text": [
        "\r",
        " [-----------------68%------            ] 171404 of 250000 complete in 88.5 sec"
       ]
      },
      {
       "output_type": "stream",
       "stream": "stdout",
       "text": [
        "\r",
        " [-----------------69%------            ] 172519 of 250000 complete in 89.0 sec"
       ]
      },
      {
       "output_type": "stream",
       "stream": "stdout",
       "text": [
        "\r",
        " [-----------------69%------            ] 173657 of 250000 complete in 89.5 sec"
       ]
      },
      {
       "output_type": "stream",
       "stream": "stdout",
       "text": [
        "\r",
        " [-----------------69%------            ] 174536 of 250000 complete in 90.0 sec"
       ]
      },
      {
       "output_type": "stream",
       "stream": "stdout",
       "text": [
        "\r",
        " [-----------------70%------            ] 175459 of 250000 complete in 90.5 sec"
       ]
      },
      {
       "output_type": "stream",
       "stream": "stdout",
       "text": [
        "\r",
        " [-----------------70%------            ] 176262 of 250000 complete in 91.0 sec"
       ]
      },
      {
       "output_type": "stream",
       "stream": "stdout",
       "text": [
        "\r",
        " [-----------------70%------            ] 177208 of 250000 complete in 91.5 sec"
       ]
      },
      {
       "output_type": "stream",
       "stream": "stdout",
       "text": [
        "\r",
        " [-----------------71%-------           ] 178018 of 250000 complete in 92.0 sec"
       ]
      },
      {
       "output_type": "stream",
       "stream": "stdout",
       "text": [
        "\r",
        " [-----------------71%-------           ] 179060 of 250000 complete in 92.6 sec"
       ]
      },
      {
       "output_type": "stream",
       "stream": "stdout",
       "text": [
        "\r",
        " [-----------------71%-------           ] 179942 of 250000 complete in 93.1 sec"
       ]
      },
      {
       "output_type": "stream",
       "stream": "stdout",
       "text": [
        "\r",
        " [-----------------72%-------           ] 180901 of 250000 complete in 93.6 sec"
       ]
      },
      {
       "output_type": "stream",
       "stream": "stdout",
       "text": [
        "\r",
        " [-----------------72%-------           ] 181798 of 250000 complete in 94.1 sec"
       ]
      },
      {
       "output_type": "stream",
       "stream": "stdout",
       "text": [
        "\r",
        " [-----------------73%-------           ] 182656 of 250000 complete in 94.6 sec"
       ]
      },
      {
       "output_type": "stream",
       "stream": "stdout",
       "text": [
        "\r",
        " [-----------------73%-------           ] 183673 of 250000 complete in 95.1 sec"
       ]
      },
      {
       "output_type": "stream",
       "stream": "stdout",
       "text": [
        "\r",
        " [-----------------73%--------          ] 184675 of 250000 complete in 95.6 sec"
       ]
      },
      {
       "output_type": "stream",
       "stream": "stdout",
       "text": [
        "\r",
        " [-----------------74%--------          ] 185587 of 250000 complete in 96.1 sec"
       ]
      },
      {
       "output_type": "stream",
       "stream": "stdout",
       "text": [
        "\r",
        " [-----------------74%--------          ] 186574 of 250000 complete in 96.6 sec"
       ]
      },
      {
       "output_type": "stream",
       "stream": "stdout",
       "text": [
        "\r",
        " [-----------------74%--------          ] 187499 of 250000 complete in 97.1 sec"
       ]
      },
      {
       "output_type": "stream",
       "stream": "stdout",
       "text": [
        "\r",
        " [-----------------75%--------          ] 188610 of 250000 complete in 97.6 sec"
       ]
      },
      {
       "output_type": "stream",
       "stream": "stdout",
       "text": [
        "\r",
        " [-----------------75%--------          ] 189727 of 250000 complete in 98.1 sec"
       ]
      },
      {
       "output_type": "stream",
       "stream": "stdout",
       "text": [
        "\r",
        " [-----------------76%---------         ] 190860 of 250000 complete in 98.6 sec"
       ]
      },
      {
       "output_type": "stream",
       "stream": "stdout",
       "text": [
        "\r",
        " [-----------------76%---------         ] 191978 of 250000 complete in 99.1 sec"
       ]
      },
      {
       "output_type": "stream",
       "stream": "stdout",
       "text": [
        "\r",
        " [-----------------77%---------         ] 193074 of 250000 complete in 99.6 sec"
       ]
      },
      {
       "output_type": "stream",
       "stream": "stdout",
       "text": [
        "\r",
        " [-----------------77%---------         ] 194176 of 250000 complete in 100.1 sec"
       ]
      },
      {
       "output_type": "stream",
       "stream": "stdout",
       "text": [
        "\r",
        " [-----------------78%---------         ] 195296 of 250000 complete in 100.6 sec"
       ]
      },
      {
       "output_type": "stream",
       "stream": "stdout",
       "text": [
        "\r",
        " [-----------------78%---------         ] 196412 of 250000 complete in 101.1 sec"
       ]
      },
      {
       "output_type": "stream",
       "stream": "stdout",
       "text": [
        "\r",
        " [-----------------79%----------        ] 197509 of 250000 complete in 101.6 sec"
       ]
      },
      {
       "output_type": "stream",
       "stream": "stdout",
       "text": [
        "\r",
        " [-----------------79%----------        ] 198635 of 250000 complete in 102.1 sec"
       ]
      },
      {
       "output_type": "stream",
       "stream": "stdout",
       "text": [
        "\r",
        " [-----------------79%----------        ] 199775 of 250000 complete in 102.6 sec"
       ]
      },
      {
       "output_type": "stream",
       "stream": "stdout",
       "text": [
        "\r",
        " [-----------------80%----------        ] 200897 of 250000 complete in 103.1 sec"
       ]
      },
      {
       "output_type": "stream",
       "stream": "stdout",
       "text": [
        "\r",
        " [-----------------80%----------        ] 202013 of 250000 complete in 103.6 sec"
       ]
      },
      {
       "output_type": "stream",
       "stream": "stdout",
       "text": [
        "\r",
        " [-----------------81%----------        ] 203117 of 250000 complete in 104.1 sec"
       ]
      },
      {
       "output_type": "stream",
       "stream": "stdout",
       "text": [
        "\r",
        " [-----------------81%-----------       ] 204170 of 250000 complete in 104.6 sec"
       ]
      },
      {
       "output_type": "stream",
       "stream": "stdout",
       "text": [
        "\r",
        " [-----------------82%-----------       ] 205238 of 250000 complete in 105.1 sec"
       ]
      },
      {
       "output_type": "stream",
       "stream": "stdout",
       "text": [
        "\r",
        " [-----------------82%-----------       ] 206352 of 250000 complete in 105.6 sec"
       ]
      },
      {
       "output_type": "stream",
       "stream": "stdout",
       "text": [
        "\r",
        " [-----------------82%-----------       ] 207472 of 250000 complete in 106.1 sec"
       ]
      },
      {
       "output_type": "stream",
       "stream": "stdout",
       "text": [
        "\r",
        " [-----------------83%-----------       ] 208593 of 250000 complete in 106.6 sec"
       ]
      },
      {
       "output_type": "stream",
       "stream": "stdout",
       "text": [
        "\r",
        " [-----------------83%-----------       ] 209713 of 250000 complete in 107.1 sec"
       ]
      },
      {
       "output_type": "stream",
       "stream": "stdout",
       "text": [
        "\r",
        " [-----------------84%------------      ] 210821 of 250000 complete in 107.6 sec"
       ]
      },
      {
       "output_type": "stream",
       "stream": "stdout",
       "text": [
        "\r",
        " [-----------------84%------------      ] 211912 of 250000 complete in 108.1 sec"
       ]
      },
      {
       "output_type": "stream",
       "stream": "stdout",
       "text": [
        "\r",
        " [-----------------85%------------      ] 212822 of 250000 complete in 108.6 sec"
       ]
      },
      {
       "output_type": "stream",
       "stream": "stdout",
       "text": [
        "\r",
        " [-----------------85%------------      ] 213568 of 250000 complete in 109.1 sec"
       ]
      },
      {
       "output_type": "stream",
       "stream": "stdout",
       "text": [
        "\r",
        " [-----------------85%------------      ] 214372 of 250000 complete in 109.6 sec"
       ]
      },
      {
       "output_type": "stream",
       "stream": "stdout",
       "text": [
        "\r",
        " [-----------------86%------------      ] 215142 of 250000 complete in 110.1 sec"
       ]
      },
      {
       "output_type": "stream",
       "stream": "stdout",
       "text": [
        "\r",
        " [-----------------86%------------      ] 215837 of 250000 complete in 110.6 sec"
       ]
      },
      {
       "output_type": "stream",
       "stream": "stdout",
       "text": [
        "\r",
        " [-----------------86%------------      ] 216653 of 250000 complete in 111.1 sec"
       ]
      },
      {
       "output_type": "stream",
       "stream": "stdout",
       "text": [
        "\r",
        " [-----------------87%-------------     ] 217558 of 250000 complete in 111.6 sec"
       ]
      },
      {
       "output_type": "stream",
       "stream": "stdout",
       "text": [
        "\r",
        " [-----------------87%-------------     ] 218414 of 250000 complete in 112.1 sec"
       ]
      },
      {
       "output_type": "stream",
       "stream": "stdout",
       "text": [
        "\r",
        " [-----------------87%-------------     ] 219136 of 250000 complete in 112.6 sec"
       ]
      },
      {
       "output_type": "stream",
       "stream": "stdout",
       "text": [
        "\r",
        " [-----------------87%-------------     ] 219920 of 250000 complete in 113.1 sec"
       ]
      },
      {
       "output_type": "stream",
       "stream": "stdout",
       "text": [
        "\r",
        " [-----------------88%-------------     ] 220985 of 250000 complete in 113.6 sec"
       ]
      },
      {
       "output_type": "stream",
       "stream": "stdout",
       "text": [
        "\r",
        " [-----------------88%-------------     ] 221974 of 250000 complete in 114.1 sec"
       ]
      },
      {
       "output_type": "stream",
       "stream": "stdout",
       "text": [
        "\r",
        " [-----------------89%-------------     ] 222844 of 250000 complete in 114.6 sec"
       ]
      },
      {
       "output_type": "stream",
       "stream": "stdout",
       "text": [
        "\r",
        " [-----------------89%--------------    ] 223909 of 250000 complete in 115.1 sec"
       ]
      },
      {
       "output_type": "stream",
       "stream": "stdout",
       "text": [
        "\r",
        " [-----------------89%--------------    ] 224869 of 250000 complete in 115.6 sec"
       ]
      },
      {
       "output_type": "stream",
       "stream": "stdout",
       "text": [
        "\r",
        " [-----------------90%--------------    ] 225938 of 250000 complete in 116.1 sec"
       ]
      },
      {
       "output_type": "stream",
       "stream": "stdout",
       "text": [
        "\r",
        " [-----------------90%--------------    ] 227019 of 250000 complete in 116.6 sec"
       ]
      },
      {
       "output_type": "stream",
       "stream": "stdout",
       "text": [
        "\r",
        " [-----------------91%--------------    ] 228102 of 250000 complete in 117.1 sec"
       ]
      },
      {
       "output_type": "stream",
       "stream": "stdout",
       "text": [
        "\r",
        " [-----------------91%--------------    ] 229194 of 250000 complete in 117.6 sec"
       ]
      },
      {
       "output_type": "stream",
       "stream": "stdout",
       "text": [
        "\r",
        " [-----------------92%---------------   ] 230268 of 250000 complete in 118.1 sec"
       ]
      },
      {
       "output_type": "stream",
       "stream": "stdout",
       "text": [
        "\r",
        " [-----------------92%---------------   ] 231346 of 250000 complete in 118.6 sec"
       ]
      },
      {
       "output_type": "stream",
       "stream": "stdout",
       "text": [
        "\r",
        " [-----------------92%---------------   ] 232442 of 250000 complete in 119.1 sec"
       ]
      },
      {
       "output_type": "stream",
       "stream": "stdout",
       "text": [
        "\r",
        " [-----------------93%---------------   ] 233503 of 250000 complete in 119.6 sec"
       ]
      },
      {
       "output_type": "stream",
       "stream": "stdout",
       "text": [
        "\r",
        " [-----------------93%---------------   ] 234540 of 250000 complete in 120.1 sec"
       ]
      },
      {
       "output_type": "stream",
       "stream": "stdout",
       "text": [
        "\r",
        " [-----------------94%---------------   ] 235631 of 250000 complete in 120.6 sec"
       ]
      },
      {
       "output_type": "stream",
       "stream": "stdout",
       "text": [
        "\r",
        " [-----------------94%---------------   ] 236726 of 250000 complete in 121.1 sec"
       ]
      },
      {
       "output_type": "stream",
       "stream": "stdout",
       "text": [
        "\r",
        " [-----------------95%----------------  ] 237828 of 250000 complete in 121.6 sec"
       ]
      },
      {
       "output_type": "stream",
       "stream": "stdout",
       "text": [
        "\r",
        " [-----------------95%----------------  ] 238927 of 250000 complete in 122.1 sec"
       ]
      },
      {
       "output_type": "stream",
       "stream": "stdout",
       "text": [
        "\r",
        " [-----------------96%----------------  ] 240012 of 250000 complete in 122.6 sec"
       ]
      },
      {
       "output_type": "stream",
       "stream": "stdout",
       "text": [
        "\r",
        " [-----------------96%----------------  ] 241129 of 250000 complete in 123.1 sec"
       ]
      },
      {
       "output_type": "stream",
       "stream": "stdout",
       "text": [
        "\r",
        " [-----------------96%----------------  ] 242231 of 250000 complete in 123.6 sec"
       ]
      },
      {
       "output_type": "stream",
       "stream": "stdout",
       "text": [
        "\r",
        " [-----------------97%----------------  ] 243281 of 250000 complete in 124.1 sec"
       ]
      },
      {
       "output_type": "stream",
       "stream": "stdout",
       "text": [
        "\r",
        " [-----------------97%----------------- ] 244384 of 250000 complete in 124.6 sec"
       ]
      },
      {
       "output_type": "stream",
       "stream": "stdout",
       "text": [
        "\r",
        " [-----------------98%----------------- ] 245467 of 250000 complete in 125.1 sec"
       ]
      },
      {
       "output_type": "stream",
       "stream": "stdout",
       "text": [
        "\r",
        " [-----------------98%----------------- ] 246575 of 250000 complete in 125.6 sec"
       ]
      },
      {
       "output_type": "stream",
       "stream": "stdout",
       "text": [
        "\r",
        " [-----------------99%----------------- ] 247632 of 250000 complete in 126.1 sec"
       ]
      },
      {
       "output_type": "stream",
       "stream": "stdout",
       "text": [
        "\r",
        " [-----------------99%----------------- ] 248706 of 250000 complete in 126.6 sec"
       ]
      },
      {
       "output_type": "stream",
       "stream": "stdout",
       "text": [
        "\r",
        " [-----------------99%----------------- ] 249794 of 250000 complete in 127.1 sec"
       ]
      },
      {
       "output_type": "stream",
       "stream": "stdout",
       "text": [
        "\r",
        " [-----------------100%-----------------] 250000 of 250000 complete in 127.2 sec"
       ]
      }
     ],
     "prompt_number": 190
    },
    {
     "cell_type": "code",
     "collapsed": false,
     "input": [
      "mcmc2 = pm.MCMC(model2)\n",
      "mcmc2.sample(250000, 10000, 2)"
     ],
     "language": "python",
     "metadata": {},
     "outputs": [
      {
       "output_type": "stream",
       "stream": "stdout",
       "text": [
        "\r",
        " [                  1%                  ] 3206 of 250000 complete in 0.5 sec"
       ]
      },
      {
       "output_type": "stream",
       "stream": "stdout",
       "text": [
        "\r",
        " [                  2%                  ] 6246 of 250000 complete in 1.0 sec"
       ]
      },
      {
       "output_type": "stream",
       "stream": "stdout",
       "text": [
        "\r",
        " [-                 3%                  ] 9313 of 250000 complete in 1.5 sec"
       ]
      },
      {
       "output_type": "stream",
       "stream": "stdout",
       "text": [
        "\r",
        " [-                 4%                  ] 12179 of 250000 complete in 2.0 sec"
       ]
      },
      {
       "output_type": "stream",
       "stream": "stdout",
       "text": [
        "\r",
        " [--                5%                  ] 14926 of 250000 complete in 2.5 sec"
       ]
      },
      {
       "output_type": "stream",
       "stream": "stdout",
       "text": [
        "\r",
        " [--                7%                  ] 17725 of 250000 complete in 3.0 sec"
       ]
      },
      {
       "output_type": "stream",
       "stream": "stdout",
       "text": [
        "\r",
        " [---               8%                  ] 20471 of 250000 complete in 3.5 sec"
       ]
      },
      {
       "output_type": "stream",
       "stream": "stdout",
       "text": [
        "\r",
        " [---               9%                  ] 23228 of 250000 complete in 4.0 sec"
       ]
      },
      {
       "output_type": "stream",
       "stream": "stdout",
       "text": [
        "\r",
        " [---              10%                  ] 25988 of 250000 complete in 4.5 sec"
       ]
      },
      {
       "output_type": "stream",
       "stream": "stdout",
       "text": [
        "\r",
        " [----             11%                  ] 28781 of 250000 complete in 5.0 sec"
       ]
      },
      {
       "output_type": "stream",
       "stream": "stdout",
       "text": [
        "\r",
        " [----             12%                  ] 31536 of 250000 complete in 5.5 sec"
       ]
      },
      {
       "output_type": "stream",
       "stream": "stdout",
       "text": [
        "\r",
        " [-----            13%                  ] 34219 of 250000 complete in 6.0 sec"
       ]
      },
      {
       "output_type": "stream",
       "stream": "stdout",
       "text": [
        "\r",
        " [-----            14%                  ] 36976 of 250000 complete in 6.5 sec"
       ]
      },
      {
       "output_type": "stream",
       "stream": "stdout",
       "text": [
        "\r",
        " [------           15%                  ] 39733 of 250000 complete in 7.0 sec"
       ]
      },
      {
       "output_type": "stream",
       "stream": "stdout",
       "text": [
        "\r",
        " [------           16%                  ] 42475 of 250000 complete in 7.5 sec"
       ]
      },
      {
       "output_type": "stream",
       "stream": "stdout",
       "text": [
        "\r",
        " [------           18%                  ] 45209 of 250000 complete in 8.0 sec"
       ]
      },
      {
       "output_type": "stream",
       "stream": "stdout",
       "text": [
        "\r",
        " [-------          19%                  ] 47942 of 250000 complete in 8.5 sec"
       ]
      },
      {
       "output_type": "stream",
       "stream": "stdout",
       "text": [
        "\r",
        " [-------          20%                  ] 50677 of 250000 complete in 9.0 sec"
       ]
      },
      {
       "output_type": "stream",
       "stream": "stdout",
       "text": [
        "\r",
        " [--------         21%                  ] 53463 of 250000 complete in 9.5 sec"
       ]
      },
      {
       "output_type": "stream",
       "stream": "stdout",
       "text": [
        "\r",
        " [--------         22%                  ] 56234 of 250000 complete in 10.0 sec"
       ]
      },
      {
       "output_type": "stream",
       "stream": "stdout",
       "text": [
        "\r",
        " [--------         23%                  ] 58921 of 250000 complete in 10.5 sec"
       ]
      },
      {
       "output_type": "stream",
       "stream": "stdout",
       "text": [
        "\r",
        " [---------        24%                  ] 61635 of 250000 complete in 11.0 sec"
       ]
      },
      {
       "output_type": "stream",
       "stream": "stdout",
       "text": [
        "\r",
        " [---------        25%                  ] 64374 of 250000 complete in 11.5 sec"
       ]
      },
      {
       "output_type": "stream",
       "stream": "stdout",
       "text": [
        "\r",
        " [----------       26%                  ] 67097 of 250000 complete in 12.0 sec"
       ]
      },
      {
       "output_type": "stream",
       "stream": "stdout",
       "text": [
        "\r",
        " [----------       27%                  ] 69858 of 250000 complete in 12.5 sec"
       ]
      },
      {
       "output_type": "stream",
       "stream": "stdout",
       "text": [
        "\r",
        " [-----------      29%                  ] 72598 of 250000 complete in 13.0 sec"
       ]
      },
      {
       "output_type": "stream",
       "stream": "stdout",
       "text": [
        "\r",
        " [-----------      30%                  ] 75188 of 250000 complete in 13.5 sec"
       ]
      },
      {
       "output_type": "stream",
       "stream": "stdout",
       "text": [
        "\r",
        " [-----------      31%                  ] 77902 of 250000 complete in 14.0 sec"
       ]
      },
      {
       "output_type": "stream",
       "stream": "stdout",
       "text": [
        "\r",
        " [------------     32%                  ] 80658 of 250000 complete in 14.5 sec"
       ]
      },
      {
       "output_type": "stream",
       "stream": "stdout",
       "text": [
        "\r",
        " [------------     33%                  ] 83297 of 250000 complete in 15.0 sec"
       ]
      },
      {
       "output_type": "stream",
       "stream": "stdout",
       "text": [
        "\r",
        " [-------------    34%                  ] 86040 of 250000 complete in 15.5 sec"
       ]
      },
      {
       "output_type": "stream",
       "stream": "stdout",
       "text": [
        "\r",
        " [-------------    35%                  ] 88800 of 250000 complete in 16.0 sec"
       ]
      },
      {
       "output_type": "stream",
       "stream": "stdout",
       "text": [
        "\r",
        " [-------------    36%                  ] 91447 of 250000 complete in 16.5 sec"
       ]
      },
      {
       "output_type": "stream",
       "stream": "stdout",
       "text": [
        "\r",
        " [--------------   37%                  ] 94209 of 250000 complete in 17.0 sec"
       ]
      },
      {
       "output_type": "stream",
       "stream": "stdout",
       "text": [
        "\r",
        " [--------------   38%                  ] 96908 of 250000 complete in 17.5 sec"
       ]
      },
      {
       "output_type": "stream",
       "stream": "stdout",
       "text": [
        "\r",
        " [---------------  39%                  ] 99632 of 250000 complete in 18.0 sec"
       ]
      },
      {
       "output_type": "stream",
       "stream": "stdout",
       "text": [
        "\r",
        " [---------------  40%                  ] 102420 of 250000 complete in 18.5 sec"
       ]
      },
      {
       "output_type": "stream",
       "stream": "stdout",
       "text": [
        "\r",
        " [---------------  42%                  ] 105162 of 250000 complete in 19.0 sec"
       ]
      },
      {
       "output_type": "stream",
       "stream": "stdout",
       "text": [
        "\r",
        " [---------------- 43%                  ] 107898 of 250000 complete in 19.5 sec"
       ]
      },
      {
       "output_type": "stream",
       "stream": "stdout",
       "text": [
        "\r",
        " [---------------- 44%                  ] 110669 of 250000 complete in 20.0 sec"
       ]
      },
      {
       "output_type": "stream",
       "stream": "stdout",
       "text": [
        "\r",
        " [-----------------45%                  ] 113482 of 250000 complete in 20.5 sec"
       ]
      },
      {
       "output_type": "stream",
       "stream": "stdout",
       "text": [
        "\r",
        " [-----------------46%                  ] 116181 of 250000 complete in 21.0 sec"
       ]
      },
      {
       "output_type": "stream",
       "stream": "stdout",
       "text": [
        "\r",
        " [-----------------47%                  ] 118888 of 250000 complete in 21.5 sec"
       ]
      },
      {
       "output_type": "stream",
       "stream": "stdout",
       "text": [
        "\r",
        " [-----------------48%                  ] 121649 of 250000 complete in 22.0 sec"
       ]
      },
      {
       "output_type": "stream",
       "stream": "stdout",
       "text": [
        "\r",
        " [-----------------49%                  ] 124444 of 250000 complete in 22.5 sec"
       ]
      },
      {
       "output_type": "stream",
       "stream": "stdout",
       "text": [
        "\r",
        " [-----------------50%                  ] 127049 of 250000 complete in 23.0 sec"
       ]
      },
      {
       "output_type": "stream",
       "stream": "stdout",
       "text": [
        "\r",
        " [-----------------51%                  ] 129752 of 250000 complete in 23.5 sec"
       ]
      },
      {
       "output_type": "stream",
       "stream": "stdout",
       "text": [
        "\r",
        " [-----------------52%                  ] 132426 of 250000 complete in 24.0 sec"
       ]
      },
      {
       "output_type": "stream",
       "stream": "stdout",
       "text": [
        "\r",
        " [-----------------54%                  ] 135203 of 250000 complete in 24.5 sec"
       ]
      },
      {
       "output_type": "stream",
       "stream": "stdout",
       "text": [
        "\r",
        " [-----------------55%                  ] 137912 of 250000 complete in 25.0 sec"
       ]
      },
      {
       "output_type": "stream",
       "stream": "stdout",
       "text": [
        "\r",
        " [-----------------56%-                 ] 140713 of 250000 complete in 25.5 sec"
       ]
      },
      {
       "output_type": "stream",
       "stream": "stdout",
       "text": [
        "\r",
        " [-----------------57%-                 ] 143445 of 250000 complete in 26.0 sec"
       ]
      },
      {
       "output_type": "stream",
       "stream": "stdout",
       "text": [
        "\r",
        " [-----------------58%--                ] 146249 of 250000 complete in 26.5 sec"
       ]
      },
      {
       "output_type": "stream",
       "stream": "stdout",
       "text": [
        "\r",
        " [-----------------59%--                ] 149033 of 250000 complete in 27.0 sec"
       ]
      },
      {
       "output_type": "stream",
       "stream": "stdout",
       "text": [
        "\r",
        " [-----------------60%---               ] 151762 of 250000 complete in 27.5 sec"
       ]
      },
      {
       "output_type": "stream",
       "stream": "stdout",
       "text": [
        "\r",
        " [-----------------61%---               ] 154451 of 250000 complete in 28.0 sec"
       ]
      },
      {
       "output_type": "stream",
       "stream": "stdout",
       "text": [
        "\r",
        " [-----------------62%---               ] 157248 of 250000 complete in 28.5 sec"
       ]
      },
      {
       "output_type": "stream",
       "stream": "stdout",
       "text": [
        "\r",
        " [-----------------64%----              ] 160013 of 250000 complete in 29.0 sec"
       ]
      },
      {
       "output_type": "stream",
       "stream": "stdout",
       "text": [
        "\r",
        " [-----------------65%----              ] 162822 of 250000 complete in 29.5 sec"
       ]
      },
      {
       "output_type": "stream",
       "stream": "stdout",
       "text": [
        "\r",
        " [-----------------66%-----             ] 165341 of 250000 complete in 30.0 sec"
       ]
      },
      {
       "output_type": "stream",
       "stream": "stdout",
       "text": [
        "\r",
        " [-----------------67%-----             ] 168020 of 250000 complete in 30.5 sec"
       ]
      },
      {
       "output_type": "stream",
       "stream": "stdout",
       "text": [
        "\r",
        " [-----------------68%-----             ] 170654 of 250000 complete in 31.0 sec"
       ]
      },
      {
       "output_type": "stream",
       "stream": "stdout",
       "text": [
        "\r",
        " [-----------------69%------            ] 173066 of 250000 complete in 31.5 sec"
       ]
      },
      {
       "output_type": "stream",
       "stream": "stdout",
       "text": [
        "\r",
        " [-----------------70%------            ] 175409 of 250000 complete in 32.0 sec"
       ]
      },
      {
       "output_type": "stream",
       "stream": "stdout",
       "text": [
        "\r",
        " [-----------------71%-------           ] 178120 of 250000 complete in 32.5 sec"
       ]
      },
      {
       "output_type": "stream",
       "stream": "stdout",
       "text": [
        "\r",
        " [-----------------72%-------           ] 180796 of 250000 complete in 33.0 sec"
       ]
      },
      {
       "output_type": "stream",
       "stream": "stdout",
       "text": [
        "\r",
        " [-----------------73%-------           ] 183444 of 250000 complete in 33.5 sec"
       ]
      },
      {
       "output_type": "stream",
       "stream": "stdout",
       "text": [
        "\r",
        " [-----------------74%--------          ] 186153 of 250000 complete in 34.0 sec"
       ]
      },
      {
       "output_type": "stream",
       "stream": "stdout",
       "text": [
        "\r",
        " [-----------------75%--------          ] 188885 of 250000 complete in 34.5 sec"
       ]
      },
      {
       "output_type": "stream",
       "stream": "stdout",
       "text": [
        "\r",
        " [-----------------76%---------         ] 191658 of 250000 complete in 35.0 sec"
       ]
      },
      {
       "output_type": "stream",
       "stream": "stdout",
       "text": [
        "\r",
        " [-----------------77%---------         ] 194362 of 250000 complete in 35.5 sec"
       ]
      },
      {
       "output_type": "stream",
       "stream": "stdout",
       "text": [
        "\r",
        " [-----------------78%---------         ] 197071 of 250000 complete in 36.0 sec"
       ]
      },
      {
       "output_type": "stream",
       "stream": "stdout",
       "text": [
        "\r",
        " [-----------------79%----------        ] 199797 of 250000 complete in 36.5 sec"
       ]
      },
      {
       "output_type": "stream",
       "stream": "stdout",
       "text": [
        "\r",
        " [-----------------80%----------        ] 202387 of 250000 complete in 37.0 sec"
       ]
      },
      {
       "output_type": "stream",
       "stream": "stdout",
       "text": [
        "\r",
        " [-----------------82%-----------       ] 205057 of 250000 complete in 37.5 sec"
       ]
      },
      {
       "output_type": "stream",
       "stream": "stdout",
       "text": [
        "\r",
        " [-----------------83%-----------       ] 207795 of 250000 complete in 38.0 sec"
       ]
      },
      {
       "output_type": "stream",
       "stream": "stdout",
       "text": [
        "\r",
        " [-----------------84%-----------       ] 210459 of 250000 complete in 38.5 sec"
       ]
      },
      {
       "output_type": "stream",
       "stream": "stdout",
       "text": [
        "\r",
        " [-----------------85%------------      ] 213159 of 250000 complete in 39.0 sec"
       ]
      },
      {
       "output_type": "stream",
       "stream": "stdout",
       "text": [
        "\r",
        " [-----------------86%------------      ] 215902 of 250000 complete in 39.5 sec"
       ]
      },
      {
       "output_type": "stream",
       "stream": "stdout",
       "text": [
        "\r",
        " [-----------------87%-------------     ] 218587 of 250000 complete in 40.0 sec"
       ]
      },
      {
       "output_type": "stream",
       "stream": "stdout",
       "text": [
        "\r",
        " [-----------------88%-------------     ] 221312 of 250000 complete in 40.5 sec"
       ]
      },
      {
       "output_type": "stream",
       "stream": "stdout",
       "text": [
        "\r",
        " [-----------------89%--------------    ] 223994 of 250000 complete in 41.0 sec"
       ]
      },
      {
       "output_type": "stream",
       "stream": "stdout",
       "text": [
        "\r",
        " [-----------------90%--------------    ] 226721 of 250000 complete in 41.5 sec"
       ]
      },
      {
       "output_type": "stream",
       "stream": "stdout",
       "text": [
        "\r",
        " [-----------------91%--------------    ] 229397 of 250000 complete in 42.0 sec"
       ]
      },
      {
       "output_type": "stream",
       "stream": "stdout",
       "text": [
        "\r",
        " [-----------------92%---------------   ] 232057 of 250000 complete in 42.5 sec"
       ]
      },
      {
       "output_type": "stream",
       "stream": "stdout",
       "text": [
        "\r",
        " [-----------------93%---------------   ] 234769 of 250000 complete in 43.0 sec"
       ]
      },
      {
       "output_type": "stream",
       "stream": "stdout",
       "text": [
        "\r",
        " [-----------------94%----------------  ] 237496 of 250000 complete in 43.5 sec"
       ]
      },
      {
       "output_type": "stream",
       "stream": "stdout",
       "text": [
        "\r",
        " [-----------------96%----------------  ] 240055 of 250000 complete in 44.0 sec"
       ]
      },
      {
       "output_type": "stream",
       "stream": "stdout",
       "text": [
        "\r",
        " [-----------------97%----------------  ] 242807 of 250000 complete in 44.5 sec"
       ]
      },
      {
       "output_type": "stream",
       "stream": "stdout",
       "text": [
        "\r",
        " [-----------------98%----------------- ] 245488 of 250000 complete in 45.0 sec"
       ]
      },
      {
       "output_type": "stream",
       "stream": "stdout",
       "text": [
        "\r",
        " [-----------------99%----------------- ] 248212 of 250000 complete in 45.5 sec"
       ]
      },
      {
       "output_type": "stream",
       "stream": "stdout",
       "text": [
        "\r",
        " [-----------------100%-----------------] 250000 of 250000 complete in 45.8 sec"
       ]
      }
     ],
     "prompt_number": 122
    },
    {
     "cell_type": "heading",
     "level": 3,
     "metadata": {},
     "source": [
      "Plotting"
     ]
    },
    {
     "cell_type": "code",
     "collapsed": false,
     "input": [
      "lambda_a_samples = mcmc.trace('lambda_a')[:]\n",
      "lambda_b_samples = mcmc.trace('lambda_b')[:]\n",
      "lambda_c_samples = mcmc.trace('lambda_c')[:]\n",
      "lambda_d_samples = mcmc.trace('lambda_d')[:]\n",
      "tau_a_samples = mcmc.trace('tau_a')[:]\n",
      "tau_b_samples = mcmc.trace('tau_b')[:]\n",
      "tau_c_samples = mcmc.trace('tau_c')[:]\n",
      "\n",
      "lambda_3_samples = mcmc2.trace('lambda_3')[:]\n",
      "lambda_4_samples = mcmc2.trace('lambda_4')[:]\n",
      "tau_samples2 = mcmc2.trace('tau2')[:]"
     ],
     "language": "python",
     "metadata": {},
     "outputs": [],
     "prompt_number": 193
    },
    {
     "cell_type": "heading",
     "level": 3,
     "metadata": {},
     "source": [
      "First dataset"
     ]
    },
    {
     "cell_type": "code",
     "collapsed": false,
     "input": [
      "fig, axes=plt.subplots(figsize=(20,12), nrows=4, ncols=2)\n",
      "fig.subplots_adjust(hspace = 0.6)\n",
      "\n",
      "axes[0][0].hist(lambda_a_samples, histtype='stepfilled', bins=30, alpha=0.85,\n",
      "         label=\"posterior of $\\lambda_a$\", color=\"#A60628\", normed=True)\n",
      "axes[0][0].legend(loc=\"upper right\")\n",
      "axes[0][0].set_title(r\"\"\"Posterior distributions of the variables $\\lambda_a,\\;\\lambda_b,\\;\\lambda_c,\\;\\lambda_d,\\;\\tau_a,\\;\\tau_b,\\;\\tau_c$\"\"\")\n",
      "axes[0][0].set_xlabel(\"$\\lambda_a$ value\")\n",
      "axes[0][0].set_ylabel(\"Probability density\")\n",
      "axes[0][0].set_xlim(0, 12)\n",
      "\n",
      "\n",
      "axes[1][0].hist(lambda_b_samples, histtype='stepfilled', bins=30, alpha=0.85,\n",
      "         label=\"posterior of $\\lambda_b$\", color=\"#467821\", normed=True)\n",
      "axes[1][0].legend(loc=\"upper right\")\n",
      "axes[1][0].set_xlabel(\"$\\lambda_b$ value\")\n",
      "axes[1][0].set_ylabel(\"Probability density\")\n",
      "axes[1][0].set_xlim(0,12)\n",
      "\n",
      "\n",
      "axes[2][0].hist(lambda_c_samples, histtype='stepfilled', bins=30, alpha=0.85,\n",
      "         label=\"posterior of $\\lambda_c$\", color=\"#7A68A6\", normed=True)\n",
      "axes[2][0].legend(loc=\"upper right\")\n",
      "axes[2][0].set_xlabel(\"$\\lambda_c$ value\")\n",
      "axes[2][0].set_ylabel(\"Probability density\")\n",
      "axes[2][0].set_xlim(0,12)\n",
      "\n",
      "\n",
      "axes[3][0].hist(lambda_d_samples, histtype='stepfilled', bins=30, alpha=0.85,\n",
      "         label=\"posterior of $\\lambda_d$\", color=\"#348ABD\", normed=True)\n",
      "axes[3][0].legend(loc=\"upper right\")\n",
      "axes[3][0].set_xlabel(\"$\\lambda_d$ value\")\n",
      "axes[3][0].set_ylabel(\"Probability density\")\n",
      "axes[3][0].set_xlim(0,12)\n",
      "\n",
      "w = 1.0 / tau_a_samples.shape[0] * np.ones_like(tau_a_samples)\n",
      "axes[1][1].hist(tau_a_samples, bins=len(np.unique(tau_a_samples)), alpha=1,\n",
      "         label=r\"posterior of $\\tau_a$\",\n",
      "         color=\"#467821\", weights=w, rwidth=2.)\n",
      "axes[1][1].set_xlabel(r\"$\\tau_a$ value\")\n",
      "axes[1][1].set_ylabel(\"Probability density\")\n",
      "axes[1][1].legend(loc=\"upper right\")\n",
      "axes[1][1].set_xlim(10,90)\n",
      "\n",
      "w = 1.0 / tau_b_samples.shape[0] * np.ones_like(tau_b_samples)\n",
      "axes[2][1].hist(tau_b_samples, bins=len(np.unique(tau_b_samples)), alpha=1,\n",
      "         label=r\"posterior of $\\tau_b$\",\n",
      "         color=\"#467821\", weights=w, rwidth=2.)\n",
      "axes[2][1].set_xlabel(r\"$\\tau_b$ value\")\n",
      "axes[2][1].set_ylabel(\"Probability\")\n",
      "axes[2][1].legend(loc=\"upper right\")\n",
      "axes[2][1].set_xlim(10,90)\n",
      "\n",
      "w = 1.0 / tau_c_samples.shape[0] * np.ones_like(tau_c_samples)\n",
      "axes[3][1].hist(tau_c_samples, bins=len(np.unique(tau_c_samples)), alpha=1,\n",
      "         label=r\"posterior of $\\tau_c$\",\n",
      "         color=\"#467821\", weights=w, rwidth=2.)\n",
      "axes[3][1].set_xlabel(r\"$\\tau_c$ value\")\n",
      "axes[3][1].set_ylabel(\"Probability density\")\n",
      "axes[3][1].legend(loc=\"upper left\")\n",
      "axes[3][1].set_xlim(10,90)\n",
      "\n",
      "remove_border(axes[0][0])\n",
      "remove_border(axes[1][0])\n",
      "remove_border(axes[2][0])\n",
      "remove_border(axes[3][0])\n",
      "remove_border(axes[0][1])\n",
      "remove_border(axes[1][1])\n",
      "remove_border(axes[2][1])\n",
      "remove_border(axes[3][1])\n",
      "print"
     ],
     "language": "python",
     "metadata": {},
     "outputs": [
      {
       "output_type": "stream",
       "stream": "stdout",
       "text": [
        "\n"
       ]
      },
      {
       "metadata": {},
       "output_type": "display_data",
       "png": "[encoded data removed]",
       "text": [
        "<matplotlib.figure.Figure at 0x1135b8f10>"
       ]
      }
     ],
     "prompt_number": 194
    },
    {
     "cell_type": "heading",
     "level": 3,
     "metadata": {},
     "source": [
      "Second dataset - days < 3h omitted"
     ]
    },
    {
     "cell_type": "code",
     "collapsed": false,
     "input": [
      "fig, axes=plt.subplots(figsize=(12,8), nrows=3, ncols=1)\n",
      "fig.subplots_adjust(hspace = 0.6)\n",
      "\n",
      "axes[0].hist(lambda_3_samples, histtype='stepfilled', bins=30, alpha=0.85,\n",
      "         label=\"posterior of $\\lambda_3$\", color=\"#A60628\", normed=True)\n",
      "axes[0].legend(loc=\"upper right\")\n",
      "axes[0].set_title(r\"\"\"Posterior distributions of the variables $\\lambda_3,\\;\\lambda_4,\\;\\tau$\"\"\")\n",
      "axes[0].set_xlabel(\"$\\lambda_3$ value\")\n",
      "axes[0].set_ylabel(\"Probability density\")\n",
      "axes[0].set_xlim(0, 12);\n",
      "\n",
      "axes[1].hist(lambda_4_samples, histtype='stepfilled', bins=30, alpha=0.85,\n",
      "         label=\"posterior of $\\lambda_4$\", color=\"#7A68A6\", normed=True)\n",
      "axes[1].legend(loc=\"upper right\")\n",
      "axes[1].set_xlabel(\"$\\lambda_4$ value\")\n",
      "axes[1].set_ylabel(\"Probability density\")\n",
      "axes[1].set_xlim(0,12);\n",
      "\n",
      "w = 1.0 / tau_samples2.shape[0] * np.ones_like(tau_samples2)\n",
      "axes[2].hist(tau_samples2, bins=n_count_data2, alpha=1,\n",
      "         label=r\"posterior of $\\tau$\",\n",
      "         color=\"#467821\", weights=w, rwidth=2.)\n",
      "axes[2].legend(loc=\"upper right\")\n",
      "axes[2].set_xlabel(r\"$\\tau$ value\")\n",
      "axes[2].set_ylabel(\"Probability density\")\n",
      "\n",
      "remove_border(axes[0])\n",
      "remove_border(axes[1])\n",
      "remove_border(axes[2])\n",
      "print"
     ],
     "language": "python",
     "metadata": {},
     "outputs": [
      {
       "output_type": "stream",
       "stream": "stdout",
       "text": [
        "\n"
       ]
      },
      {
       "metadata": {},
       "output_type": "display_data",
       "png": "[encoded data removed]",
       "text": [
        "<matplotlib.figure.Figure at 0x10c2eeb50>"
       ]
      }
     ],
     "prompt_number": 200
    },
    {
     "cell_type": "heading",
     "level": 3,
     "metadata": {},
     "source": [
      "Investigation of Highest Posterior Density "
     ]
    },
    {
     "cell_type": "markdown",
     "metadata": {},
     "source": [
      "Bayesian analysis returns a posterior distribution which allows inferences to be made directly. A simple approach to inference is to consider the most probable range of parameter values using the parameter's posterior distribution. Below, we plot the highest posterior density region within which there is a 95% of the probability that the true value of the parameter exists. This allows us to examine whether there has been a change in behaviour in our study hours."
     ]
    },
    {
     "cell_type": "heading",
     "level": 4,
     "metadata": {},
     "source": [
      "First Dataset"
     ]
    },
    {
     "cell_type": "code",
     "collapsed": false,
     "input": [
      "fig, axes=plt.subplots(figsize=(16,6), nrows=1, ncols=1)\n",
      "\n",
      "Lambda_a_hpds = pm.utils.hpd(mcmc.trace('lambda_a')[:], 1. - .95)\n",
      "Lambda_b_hpds = pm.utils.hpd(mcmc.trace('lambda_b')[:], 1. - .95)\n",
      "Lambda_c_hpds = pm.utils.hpd(mcmc.trace('lambda_c')[:], 1. - .95)\n",
      "Lambda_d_hpds = pm.utils.hpd(mcmc.trace('lambda_d')[:], 1. - .95)\n",
      "\n",
      "\n",
      "axes.hist(lambda_a_samples, histtype='stepfilled', bins=30, alpha=0.5, label=\"posterior of $\\lambda_a$\", color=\"#7A68A6\", normed=True)\n",
      "axes.vlines(Lambda_a_hpds, 0, 2.5, linestyle=\"--\", color=\"#7A68A6\", label=\"hpd of $\\lambda_a$\")\n",
      "axes.hist(lambda_b_samples, histtype='stepfilled', bins=30, alpha=0.5,label=\"posterior of $\\lambda_b$\", color=\"#467821\", normed=True)\n",
      "axes.vlines(Lambda_b_hpds, 0, 2.5, linestyle=\"--\", color=\"#467821\", label=\"hpd of $\\lambda_b$\")\n",
      "axes.hist(lambda_c_samples, histtype='stepfilled', bins=30, alpha=0.5, label=\"posterior of $\\lambda_c$\", color=\"#A60628\", normed=True)\n",
      "axes.vlines(Lambda_c_hpds, 0, 2.5, linestyle=\"--\", color=\"#A60628\", label=\"hpd of $\\lambda_c$\")\n",
      "axes.hist(lambda_d_samples, histtype='stepfilled', bins=30, alpha=0.5,label=\"posterior of $\\lambda_d$\", color=\"#348ABD\", normed=True)\n",
      "axes.vlines(Lambda_d_hpds, 0, 2.5, linestyle=\"--\", color=\"#348ABD\", label=\"hpd of $\\lambda_d$\")\n",
      "axes.legend(loc=\"upper right\")\n",
      "axes.set_xlabel(\"MCMC $\\lambda$ value\")\n",
      "axes.set_ylabel(\"Probability Density\")\n",
      "axes.set_title(\"Lambda posterior functions with HPD's\")\n",
      "axes.set_xlim(0,12);\n",
      "axes.set_ylim(0, 2.5);\n",
      "remove_border(axes)"
     ],
     "language": "python",
     "metadata": {},
     "outputs": [
      {
       "metadata": {},
       "output_type": "display_data",
       "png": "[encoded data removed]",
       "text": [
        "<matplotlib.figure.Figure at 0x111567c10>"
       ]
      }
     ],
     "prompt_number": 212
    },
    {
     "cell_type": "heading",
     "level": 4,
     "metadata": {},
     "source": [
      "First Dataset Analysis"
     ]
    },
    {
     "cell_type": "markdown",
     "metadata": {},
     "source": [
      "We can clearly see that the analysis has identified the holiday period, highlighted in green, where an estimated 0-1h of studying has been carried out each day.\n",
      "\n",
      "The time period directly preceding and directly following the holiday period, shown in the red and purple colours aren't very distinct in hours worked and their distributions largely overlap. This seems to indicate there isn't a large change in studying behaviour between these two periods.\n",
      "\n",
      "However there seems to be a change in behaviour that gets established as shown by the blue distribution. The tau_c variable suggests that the most likely day for this change happened around day 75. Prior to day 75, outside of the holiday period, we seemed to be working around 7h days, whereas from day 75 onwards, we seemed to work around 5h days; this is an average and as this dataset includes holidays is probably an overstated hour drop."
     ]
    },
    {
     "cell_type": "heading",
     "level": 4,
     "metadata": {},
     "source": [
      "Second Dataset"
     ]
    },
    {
     "cell_type": "code",
     "collapsed": false,
     "input": [
      "fig, axes=plt.subplots(figsize=(16,6), nrows=1, ncols=1)\n",
      "\n",
      "Lambda_3_hpds = pm.utils.hpd(mcmc2.trace('lambda_3')[:], 1. - .95)\n",
      "Lambda_4_hpds = pm.utils.hpd(mcmc2.trace('lambda_4')[:], 1. - .95)\n",
      "\n",
      "axes.hist(lambda_3_samples, histtype='stepfilled', bins=30, alpha=0.5,\n",
      "         label=\"posterior of $\\lambda_3$\", color=\"#A60628\", normed=True)\n",
      "axes.vlines(Lambda_3_hpds, 0, 1.2, linestyle=\"--\", color=\"#A60628\", label=\"hpd of $\\lambda_3$\")\n",
      "axes.hist(lambda_4_samples, histtype='stepfilled', bins=30, alpha=0.5,\n",
      "         label=\"posterior of $\\lambda_4$\", color=\"#7A68A6\", normed=True)\n",
      "axes.vlines(Lambda_4_hpds, 0, 1.2, linestyle=\"--\", color=\"#7A68A6\", label=\"hpd of $\\lambda_4$\")\n",
      "axes.legend(loc=\"upper left\")\n",
      "\n",
      "axes.set_xlabel(\"$MCMC2 $\\lambda$ value\")\n",
      "axes.set_title(\"Lambda posterior functions with HPD's\")\n",
      "axes.set_xlim(0,12);\n",
      "\n",
      "axes.legend(loc=\"upper left\")\n",
      "axes.set_xlabel(\"MCMC-2 $\\lambda$ value\")\n",
      "axes.set_title(\"Lambda posterior functions with HPD's\")\n",
      "axes.set_ylabel(\"Probability Density\")\n",
      "axes.set_xlim(0,12);\n",
      "axes.set_ylim(0, 1.2);\n",
      "remove_border(axes);"
     ],
     "language": "python",
     "metadata": {},
     "outputs": [
      {
       "metadata": {},
       "output_type": "display_data",
       "png": "[encoded data removed]",
       "text": [
        "<matplotlib.figure.Figure at 0x1110ed490>"
       ]
      }
     ],
     "prompt_number": 216
    },
    {
     "cell_type": "heading",
     "level": 4,
     "metadata": {},
     "source": [
      "Second Dataset Analysis"
     ]
    },
    {
     "cell_type": "markdown",
     "metadata": {},
     "source": [
      "It is possible to see from the above two distributions that there may have been two different study regimes, a first one with a higher study rate of just under 8h per day and a lower one at around 7h per day. However the two distributions overlap significantly and therefore we cannot definitely separate the two study periods and conclude they arise from distinct distributions.\n",
      "The tau value seems to suggest that the shift in study pattern took place around day 55. Considering that days where hours with less than 3h studying were removed from the dataset, it is possible to think that this shift is consistent with the shift seen in the first dataset at day 75.\n",
      "The first dataset suggested that the hours worked post shift were about 5h but included days < 3h whereas this dataset shows hours post shift at 7h but doesn't include days < 3h. It seems possible to reconcile the two datasets and explain that there has been a shift at some point in time resulting in our studying habits reducing in number of hours worked per day but it is difficult to say for sure by how much."
     ]
    },
    {
     "cell_type": "heading",
     "level": 3,
     "metadata": {},
     "source": [
      "Simulation of data from posterior distributions"
     ]
    },
    {
     "cell_type": "markdown",
     "metadata": {},
     "source": [
      "To assess whether our models are credible, we can simulate data from the posterior distributions and compare them with our original dataset."
     ]
    },
    {
     "cell_type": "heading",
     "level": 4,
     "metadata": {},
     "source": [
      "First Dataset"
     ]
    },
    {
     "cell_type": "markdown",
     "metadata": {},
     "source": [
      "We use the maximum a posteriori (MAP) estimation for the lambda values to simulate random draws of our Poisson distribution model. We also plot the MAP values for the tau variable."
     ]
    },
    {
     "cell_type": "code",
     "collapsed": false,
     "input": [
      "model = pm.Model({'observation': observation, 'lambda_a': lambda_a, 'lambda_b': lambda_b, 'lambda_c': lambda_c, 'lambda_d': lambda_d, 'tau_a': tau_a, 'tau_b': tau_b, 'tau_c': tau_c})\n",
      "\n",
      "M = pm.MAP(model)\n",
      "M.fit()\n",
      "lambda_a_MAP = M.lambda_a.value\n",
      "lambda_b_MAP = M.lambda_b.value\n",
      "lambda_c_MAP = M.lambda_c.value\n",
      "lambda_d_MAP = M.lambda_d.value\n",
      "tau_a_MAP = M.tau_a.value\n",
      "tau_b_MAP = M.tau_b.value\n",
      "tau_c_MAP = M.tau_c.value"
     ],
     "language": "python",
     "metadata": {},
     "outputs": [
      {
       "output_type": "stream",
       "stream": "stdout",
       "text": [
        "Warning: Stochastic tau_b's value is neither numerical nor array with floating-point dtype. Recommend fitting method fmin (default).\n",
        "Warning: Stochastic tau_c's value is neither numerical nor array with floating-point dtype. Recommend fitting method fmin (default).\n",
        "Warning: Stochastic tau_a's value is neither numerical nor array with floating-point dtype. Recommend fitting method fmin (default).\n"
       ]
      }
     ],
     "prompt_number": 272
    },
    {
     "cell_type": "code",
     "collapsed": false,
     "input": [
      "print\"                                                 ARTIFICIAL DATASETS\"\n",
      "print\n",
      "fig, axes=plt.subplots(figsize=(20,8), nrows=3, ncols=3)\n",
      "fig.subplots_adjust(hspace = 0.6)\n",
      "for i in np.arange(3):\n",
      "    for j in np.arange(3):\n",
      "        data = np.r_[pm.rpoisson(lambda_a_MAP, tau_a_MAP), pm.rpoisson(lambda_b_MAP, tau_b_MAP - tau_a_MAP), pm.rpoisson(lambda_c_MAP, tau_c_MAP - tau_b_MAP), pm.rpoisson(lambda_d_MAP, n_count_data - tau_c_MAP)]\n",
      "        axes[i][j].bar(np.arange(n_count_data), data, color=\"#348ABD\")\n",
      "        axes[i][j].bar(tau_a_MAP - 1, data[tau_a_MAP - 1], color=\"r\", label=\"Behavoiur change\")\n",
      "        axes[i][j].bar(tau_b_MAP, data[tau_b_MAP], color=\"r\")\n",
      "        axes[i][j].bar(tau_c_MAP - 1, data[tau_c_MAP - 1], color=\"r\")\n",
      "        axes[i][j].set_xlabel(\"Time (days)\")\n",
      "        axes[i][j].set_ylabel(\"Number of hours worked\")\n",
      "        axes[i][j].set_xlim(0, n_count_data)\n",
      "        remove_border(axes[i][j])"
     ],
     "language": "python",
     "metadata": {},
     "outputs": [
      {
       "output_type": "stream",
       "stream": "stdout",
       "text": [
        "                                                 ARTIFICIAL DATASETS\n",
        "\n"
       ]
      },
      {
       "metadata": {},
       "output_type": "display_data",
       "png": "[encoded data removed]",
       "text": [
        "<matplotlib.figure.Figure at 0x11967d890>"
       ]
      }
     ],
     "prompt_number": 278
    },
    {
     "cell_type": "markdown",
     "metadata": {},
     "source": [
      "These datasets appear to be a reasonable reflection of our study data. However one possible improvement to the model could be to put an upper bound to the prior distribution so that there is zero probability of studying more than a certain number of hours on any given day."
     ]
    },
    {
     "cell_type": "heading",
     "level": 4,
     "metadata": {},
     "source": [
      "Second Dataset"
     ]
    },
    {
     "cell_type": "markdown",
     "metadata": {},
     "source": [
      "We use the maximum a posteriori (MAP) estimation for the lambda values to simulate random draws of our Poisson distribution model. We also plot the MAP values for the tau variable."
     ]
    },
    {
     "cell_type": "code",
     "collapsed": false,
     "input": [
      "model2 = pm.Model({'observation2': observation2, 'lambda_3': lambda_3, 'lambda_4': lambda_4, 'tau2': tau2})\n",
      "\n",
      "M2 = pm.MAP(model2)\n",
      "M2.fit()\n",
      "lambda_3_MAP = M2.lambda_3.value\n",
      "lambda_4_MAP = M2.lambda_4.value\n",
      "tau2_MAP = M2.tau2.value"
     ],
     "language": "python",
     "metadata": {},
     "outputs": [
      {
       "output_type": "stream",
       "stream": "stdout",
       "text": [
        "Warning: Stochastic tau2's value is neither numerical nor array with floating-point dtype. Recommend fitting method fmin (default).\n"
       ]
      }
     ],
     "prompt_number": 280
    },
    {
     "cell_type": "code",
     "collapsed": false,
     "input": [
      "print\"                                                 ARTIFICIAL DATASETS\"\n",
      "print\n",
      "fig, axes=plt.subplots(figsize=(20,8), nrows=3, ncols=3)\n",
      "fig.subplots_adjust(hspace = 0.6)\n",
      "for i in np.arange(3):\n",
      "    for j in np.arange(3):\n",
      "        data = np.r_[pm.rpoisson(lambda_3_MAP, tau2_MAP), pm.rpoisson(lambda_4_MAP, n_count_data2 - tau2_MAP)];\n",
      "        axes[i][j].bar(np.arange(n_count_data2), data, color=\"#348ABD\")\n",
      "        axes[i][j].bar(tau2_MAP - 1, data[tau2_MAP - 1], color=\"r\", label=\"Behavoiur change\")\n",
      "        axes[i][j].set_xlabel(\"Time (days)\")\n",
      "        axes[i][j].set_ylabel(\"Number of hours worked\")\n",
      "        axes[i][j].set_xlim(0, n_count_data2)\n",
      "        remove_border(axes[i][j])"
     ],
     "language": "python",
     "metadata": {},
     "outputs": [
      {
       "output_type": "stream",
       "stream": "stdout",
       "text": [
        "                                                 ARTIFICIAL DATASETS\n",
        "\n"
       ]
      },
      {
       "metadata": {},
       "output_type": "display_data",
       "png": "[encoded data removed]",
       "text": [
        "<matplotlib.figure.Figure at 0x122703810>"
       ]
      }
     ],
     "prompt_number": 281
    },
    {
     "cell_type": "heading",
     "level": 3,
     "metadata": {},
     "source": [
      "Convergence"
     ]
    },
    {
     "cell_type": "markdown",
     "metadata": {},
     "source": [
      "The plots below consider the problems of convergence within MCMC simulation. These allow exploration of autocorrelation to determine whether thinning is required as well as the number of iterations before convergence to determine a sensible burnin period."
     ]
    },
    {
     "cell_type": "code",
     "collapsed": false,
     "input": [
      "#Testing the trace and autocorrelation of the lambda functions\n",
      "from pymc.Matplot import plot as mcplot\n",
      "mcplot(mcmc)"
     ],
     "language": "python",
     "metadata": {},
     "outputs": [
      {
       "output_type": "stream",
       "stream": "stdout",
       "text": [
        "Plotting tau_b\n",
        "Plotting"
       ]
      },
      {
       "output_type": "stream",
       "stream": "stdout",
       "text": [
        " lambda_d\n",
        "Plotting"
       ]
      },
      {
       "output_type": "stream",
       "stream": "stdout",
       "text": [
        " tau_c\n",
        "Plotting"
       ]
      },
      {
       "output_type": "stream",
       "stream": "stdout",
       "text": [
        " lambda_a\n",
        "Plotting"
       ]
      },
      {
       "output_type": "stream",
       "stream": "stdout",
       "text": [
        " lambda_b\n",
        "Plotting"
       ]
      },
      {
       "output_type": "stream",
       "stream": "stdout",
       "text": [
        " tau_a\n",
        "Plotting"
       ]
      },
      {
       "output_type": "stream",
       "stream": "stdout",
       "text": [
        " lambda_c\n"
       ]
      },
      {
       "metadata": {},
       "output_type": "display_data",
       "png": "[encoded data removed]",
       "text": [
        "<matplotlib.figure.Figure at 0x108dc3ed0>"
       ]
      },
      {
       "metadata": {},
       "output_type": "display_data",
       "png": "[encoded data removed]",
       "text": [
        "<matplotlib.figure.Figure at 0x116ed7a10>"
       ]
      },
      {
       "metadata": {},
       "output_type": "display_data",
       "png": "[encoded data removed]",
       "text": [
        "<matplotlib.figure.Figure at 0x10f3ecb90>"
       ]
      },
      {
       "metadata": {},
       "output_type": "display_data",
       "png": "[encoded data removed]",
       "text": [
        "<matplotlib.figure.Figure at 0x115284950>"
       ]
      },
      {
       "metadata": {},
       "output_type": "display_data",
       "png": "[encoded data removed]",
       "text": [
        "<matplotlib.figure.Figure at 0x10c2af110>"
       ]
      },
      {
       "metadata": {},
       "output_type": "display_data",
       "png": "[encoded data removed]",
       "text": [
        "<matplotlib.figure.Figure at 0x119456110>"
       ]
      },
      {
       "metadata": {},
       "output_type": "display_data",
       "png": "[encoded data removed]",
       "text": [
        "<matplotlib.figure.Figure at 0x119bc65d0>"
       ]
      }
     ],
     "prompt_number": 192
    },
    {
     "cell_type": "code",
     "collapsed": false,
     "input": [
      "#Testing the trace and autocorrelation of the lambda functions\n",
      "from pymc.Matplot import plot #Import pymc in-built plotting functions\n",
      "plot(mcmc2)"
     ],
     "language": "python",
     "metadata": {},
     "outputs": [
      {
       "output_type": "stream",
       "stream": "stdout",
       "text": [
        "Plotting tau2\n",
        "Plotting"
       ]
      },
      {
       "output_type": "stream",
       "stream": "stdout",
       "text": [
        " lambda_3\n",
        "Plotting"
       ]
      },
      {
       "output_type": "stream",
       "stream": "stdout",
       "text": [
        " lambda_4\n"
       ]
      },
      {
       "metadata": {},
       "output_type": "display_data",
       "png": "[encoded data removed]",
       "text": [
        "<matplotlib.figure.Figure at 0x1131e5b50>"
       ]
      },
      {
       "metadata": {},
       "output_type": "display_data",
       "png": "[encoded data removed]",
       "text": [
        "<matplotlib.figure.Figure at 0x110dc3f50>"
       ]
      },
      {
       "metadata": {},
       "output_type": "display_data",
       "png": "[encoded data removed]",
       "text": [
        "<matplotlib.figure.Figure at 0x11d01b490>"
       ]
      }
     ],
     "prompt_number": 189
    }
   ],
   "metadata": {}
  }
 ]
}