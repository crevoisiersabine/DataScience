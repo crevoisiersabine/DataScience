{
 "metadata": {
  "name": "",
  "signature": "sha256:46e84643bd0cf3b70cbf854757ec5be69cfbbcac767877250a6365471e8514c5"
 },
 "nbformat": 3,
 "nbformat_minor": 0,
 "worksheets": [
  {
   "cells": [
    {
     "cell_type": "code",
     "collapsed": false,
     "input": [
      "import os\n",
      "\n",
      "os.getcwd()"
     ],
     "language": "python",
     "metadata": {},
     "outputs": [
      {
       "metadata": {},
       "output_type": "pyout",
       "prompt_number": 1,
       "text": [
        "'/Users/frasercampbell/Documents/CV'"
       ]
      }
     ],
     "prompt_number": 1
    },
    {
     "cell_type": "code",
     "collapsed": false,
     "input": [
      "import pandas as pd\n",
      "\n",
      "Data = pd.read_csv(\"study_data.tsv\", delimiter='\\t')\n",
      "print Data"
     ],
     "language": "python",
     "metadata": {},
     "outputs": [
      {
       "output_type": "stream",
       "stream": "stdout",
       "text": [
        "          Date  CS106B  StatsUD  NLP  CS171  StatsMIT   DB  CS109  Stats101\n",
        "0     2-6-2014     0.0      0.0  3.0    0.0         0  5.0      0         0\n",
        "1     3-6-2014     2.0      0.0  2.0    2.0         0  0.0      0         0\n",
        "2     4-6-2014     3.0      2.0  0.0    0.0         0  2.0      0         0\n",
        "3     5-6-2014     3.0      0.0  2.0    3.0         0  0.0      0         0\n",
        "4     6-6-2014     6.0      0.0  0.0    2.0         0  0.0      0         0\n",
        "5     7-6-2014     2.0      3.0  2.0    1.0         0  0.0      0         0\n",
        "6     8-6-2014     0.0      0.0  0.0    0.0         0  0.0      0         0\n",
        "7     9-6-2014     0.0      0.0  0.0   10.0         0  0.0      0         0\n",
        "8    10-6-2014     0.0      0.0  0.0   10.0         0  0.0      0         0\n",
        "9    11-6-2014     0.0      0.0  0.0   10.0         0  0.0      0         0\n",
        "10   12-6-2014     0.0      0.0  6.0    0.0         0  0.0      0         0\n",
        "11   13-6-2014     2.0      0.0  6.0    0.0         0  0.0      0         0\n",
        "12   14-6-2014     7.0      0.0  0.0    0.0         0  0.0      0         0\n",
        "13   15-6-2014     2.0      0.0  0.0    0.0         0  0.0      0         0\n",
        "14   16-6-2014     3.0      2.5  0.0    2.0         0  0.0      0         0\n",
        "15   17-6-2014     2.0      0.0  0.0    1.0         0  3.0      0         0\n",
        "16   18-6-2014     1.0      0.0  4.0    0.0         0  2.0      0         0\n",
        "17   19-6-2014     1.0      3.0  0.0    4.0         0  0.0      0         0\n",
        "18   20-6-2014     0.0      5.5  0.0    1.5         0  3.0      0         0\n",
        "19   21-6-2014     2.0      0.0  2.5    0.0         0  0.0      0         0\n",
        "20   22-6-2014     1.0      0.0  3.0    0.0         0  0.0      0         0\n",
        "21   23-6-2014     3.0      0.0  0.0    0.0         0  0.0      0         0\n",
        "22   24-6-2014     2.0      0.0  0.0    6.0         0  0.0      0         0\n",
        "23   25-6-2014     6.0      0.0  0.0    0.0         0  1.5      0         0\n",
        "24   26-6-2014     0.0      0.0  0.0    9.0         0  0.0      0         0\n",
        "25   27-6-2014     1.5      0.5  0.0    6.0         0  0.0      0         0\n",
        "26   28-6-2014     0.0      3.0  0.0    1.0         0  0.0      0         0\n",
        "27   29-6-2014     5.0      0.0  1.0    0.0         0  0.0      0         0\n",
        "28   30-6-2014     0.0      0.0  9.0    0.0         0  0.0      0         0\n",
        "29    1-7-2014     2.0      0.0  0.0    0.0         0  0.0      0         0\n",
        "..         ...     ...      ...  ...    ...       ...  ...    ...       ...\n",
        "100  10-9-2014     0.0      0.0  0.0    0.0         0  0.0      7         0\n",
        "101  11-9-2014     0.0      0.0  0.0    0.0         0  0.0      6         0\n",
        "102  12-9-2014     0.0      0.0  0.0    0.0         0  0.0      7         0\n",
        "103  13-9-2014     0.0      0.0  0.0    8.5         0  0.0      0         0\n",
        "104  14-9-2014     0.0      0.0  0.0    5.5         0  0.0      0         0\n",
        "105  15-9-2014     0.0      0.0  0.0    6.0         0  0.0      0         0\n",
        "106  16-9-2014     0.0      0.0  0.0    7.0         0  0.0      0         0\n",
        "107  17-9-2014     0.0      0.0  0.0    4.5         4  0.0      0         0\n",
        "108  18-9-2014     0.0      0.0  0.0    0.0         7  0.0      0         0\n",
        "109  19-9-2014     0.0      0.0  0.0    0.0         7  0.0      0         0\n",
        "110  20-9-2014     0.0      0.0  0.0    0.0         0  0.0      0         0\n",
        "111  21-9-2014     0.0      0.0  0.0    0.0         0  7.0      0         0\n",
        "112  22-9-2014     0.0      0.0  0.0    0.0         0  5.0      0         0\n",
        "113  23-9-2014     5.0      0.0  0.0    0.0         0  2.0      0         0\n",
        "114  24-9-2014     0.0      0.0  0.0    0.0         0  6.0      0         0\n",
        "115  25-9-2014     2.0      0.0  0.0    0.0         0  5.0      0         0\n",
        "116  26-9-2014     5.0      0.0  0.0    0.0         0  0.0      0         0\n",
        "117  27-9-2014     0.0      0.0  0.0    0.0         0  0.0      0         0\n",
        "118  28-9-2014     2.0      0.0  0.0    0.0         0  0.0      0         0\n",
        "119  29-9-2014     6.0      0.0  0.0    0.0         0  0.0      0         0\n",
        "120  30-9-2014     7.0      0.0  0.0    0.0         0  0.0      0         0\n",
        "121  1-10-2014     7.0      0.0  0.0    0.0         0  0.0      0         0\n",
        "122  2-10-2014     0.0      0.0  0.0    0.0         0  0.0      0         0\n",
        "123  3-10-2014     0.0      0.0  0.0    0.0         0  0.0      0         0\n",
        "124  4-10-2014     0.0      0.0  0.0    0.0         0  0.0      0         0\n",
        "125  5-10-2014     0.0      0.0  0.0    0.0         0  0.0      0         0\n",
        "126  6-10-2014     0.0      0.0  0.0    0.0         0  0.0      0         0\n",
        "127  7-10-2014     0.0      0.0  0.0    0.0         0  0.0      0         0\n",
        "128  8-10-2014     0.0      0.0  0.0    0.0         0  0.0      0         0\n",
        "129  9-10-2014     0.0      0.0  0.0    0.0         0  0.0      0         0\n",
        "\n",
        "[130 rows x 9 columns]\n"
       ]
      }
     ],
     "prompt_number": 12
    },
    {
     "cell_type": "code",
     "collapsed": false,
     "input": [
      "print Data.sum()\n",
      "SubData = Data.ix[:,1:9]\n",
      "# print SubData\n",
      "# print SubData.apply(lambda column: column.sum()/(column != 0).sum())"
     ],
     "language": "python",
     "metadata": {},
     "outputs": [
      {
       "output_type": "stream",
       "stream": "stdout",
       "text": [
        "Date        2-6-20143-6-20144-6-20145-6-20146-6-20147-6-20...\n",
        "CS106B                                                  107.5\n",
        "StatsUD                                                  31.5\n",
        "NLP                                                      48.5\n",
        "CS171                                                   128.5\n",
        "StatsMIT                                                   18\n",
        "DB                                                       42.5\n",
        "CS109                                                   133.5\n",
        "Stats101                                                  150\n",
        "dtype: object\n"
       ]
      }
     ],
     "prompt_number": 21
    },
    {
     "cell_type": "code",
     "collapsed": false,
     "input": [
      "import numpy as np\n",
      "# D3_data = pd.read_csv(\"course_hierarch.csv\")\n",
      "Course = []\n",
      "Chapter = []\n",
      "Topic = []\n",
      "Hours = []\n",
      "\n",
      "fp = file(\"course_hierarch.csv\", 'rb')\n",
      "for line in fp:\n",
      "    line_arr = line.split(\",\")\n",
      "    Course.append(line_arr[0])\n",
      "    Chapter.append(line_arr[1])\n",
      "    Topic.append(line_arr[2])\n",
      "Data_D3 = zip(Course[1:], Chapter[1:], Topic[1:])\n",
      "df = pd.DataFrame(data = Data_D3, columns=['Course', 'Chapter', 'Topic'])\n",
      "# print df.keys()\n",
      "# print df\n",
      "\n",
      "course_hours = df.groupby(\"Course\").count()\n",
      "chapter_hours = df.groupby(\"Chapter\").count()\n",
      "print type(course_hours),  course_hours, course_hours.keys()\n",
      "# print \"/n\"\n",
      "# print chapter_hours\n",
      "\n",
      "course_hours['Chapter'].as_matrix()\n",
      "to_join = pd.DataFrame(course_hours['Chapter'].as_matrix(), index=df['Course'].unique(), columns=['Course_hour'])\n",
      "to_join2 = pd.DataFrame(chapter_hours['Topic'].as_matrix(), index=df['Chapter'].unique(), columns=['Chap_hour'])\n",
      "df = df.join(to_join, on='Course')\n",
      "df = df.join(to_join2, on='Chapter')"
     ],
     "language": "python",
     "metadata": {},
     "outputs": [
      {
       "output_type": "stream",
       "stream": "stdout",
       "text": [
        "<class 'pandas.core.frame.DataFrame'>                     Chapter  Topic\n",
        "Course                            \n",
        "CS106A                  151    151\n",
        "CS106B                  116    116\n",
        "CS109                   115    115\n",
        "CS171                   128    128\n",
        "Machine Learning         72     72\n",
        "NLP                      19     19\n",
        "Probabilistic Sys        18     18\n",
        "Stanford Databases       36     36\n",
        "Statistics Udacity       16     16\n",
        "Stats 110               113    113 Index([u'Chapter', u'Topic'], dtype='object')\n"
       ]
      }
     ],
     "prompt_number": 107
    },
    {
     "cell_type": "code",
     "collapsed": false,
     "input": [
      "# pieces = [df[:,1], df[:,2], df[:,2], df[:,0]]"
     ],
     "language": "python",
     "metadata": {},
     "outputs": [],
     "prompt_number": 54
    },
    {
     "cell_type": "code",
     "collapsed": false,
     "input": [
      "df.to_csv('course_hierarch2.csv', sep=',', index=False)"
     ],
     "language": "python",
     "metadata": {},
     "outputs": [],
     "prompt_number": 108
    },
    {
     "cell_type": "code",
     "collapsed": false,
     "input": [],
     "language": "python",
     "metadata": {},
     "outputs": []
    }
   ],
   "metadata": {}
  }
 ]
}